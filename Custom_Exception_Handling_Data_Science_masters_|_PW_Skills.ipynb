{
  "nbformat": 4,
  "nbformat_minor": 0,
  "metadata": {
    "colab": {
      "provenance": [],
      "authorship_tag": "ABX9TyOBb6j+R732EBhFlu/eHycA",
      "include_colab_link": true
    },
    "kernelspec": {
      "name": "python3",
      "display_name": "Python 3"
    },
    "language_info": {
      "name": "python"
    }
  },
  "cells": [
    {
      "cell_type": "markdown",
      "metadata": {
        "id": "view-in-github",
        "colab_type": "text"
      },
      "source": [
        "<a href=\"https://colab.research.google.com/github/sajan122/Class/blob/main/Custom_Exception_Handling_Data_Science_masters_%7C_PW_Skills.ipynb\" target=\"_parent\"><img src=\"https://colab.research.google.com/assets/colab-badge.svg\" alt=\"Open In Colab\"/></a>"
      ]
    },
    {
      "cell_type": "code",
      "execution_count": null,
      "metadata": {
        "colab": {
          "base_uri": "https://localhost:8080/"
        },
        "id": "yGEGCejpXzIw",
        "outputId": "29c01ad3-4a3a-4ce4-ed04-64e4d30f5661"
      },
      "outputs": [
        {
          "name": "stdout",
          "output_type": "stream",
          "text": [
            "enter your age-77\n"
          ]
        }
      ],
      "source": [
        "age = int(input(\"enter your age\"))"
      ]
    },
    {
      "cell_type": "code",
      "source": [
        "type(n)"
      ],
      "metadata": {
        "colab": {
          "base_uri": "https://localhost:8080/"
        },
        "id": "9XWYxuqkYrUi",
        "outputId": "5abd6aff-e174-4c09-a8cc-090c58d6db0b"
      },
      "execution_count": null,
      "outputs": [
        {
          "output_type": "execute_result",
          "data": {
            "text/plain": [
              "int"
            ]
          },
          "metadata": {},
          "execution_count": 8
        }
      ]
    },
    {
      "cell_type": "markdown",
      "source": [],
      "metadata": {
        "id": "PXhDbQ_cEVuC"
      }
    },
    {
      "cell_type": "code",
      "source": [
        "class validateage(Exception):\n",
        "\n",
        "    def __init__(self,meg):\n",
        "        self.meg = meg"
      ],
      "metadata": {
        "id": "MLvI6IfMzi7J"
      },
      "execution_count": null,
      "outputs": []
    },
    {
      "cell_type": "code",
      "source": [
        "def sarverbeage(age):\n",
        "    if age < 0 :\n",
        "        raise validateage(\" age will be neve negative\")\n",
        "\n",
        "    elif age > 200 :\n",
        "        raise validateage (\"over age \")\n",
        "\n",
        "\n",
        "    else:\n",
        "        print(\" your age is profect\")"
      ],
      "metadata": {
        "id": "iDzIe7tg4L1W"
      },
      "execution_count": null,
      "outputs": []
    },
    {
      "cell_type": "code",
      "source": [
        "try:\n",
        "    age = int(input(\"enter age\"))\n",
        "    sarverbeage(age)\n",
        "\n",
        "except validateage as e:\n",
        "    print(e)\n",
        "\n",
        "else:\n",
        "    print(\"try will be run\")"
      ],
      "metadata": {
        "colab": {
          "base_uri": "https://localhost:8080/"
        },
        "id": "iNB9sSan-_Zq",
        "outputId": "17c66617-7ed4-4a1c-f6a2-57fdb385a80c"
      },
      "execution_count": null,
      "outputs": [
        {
          "output_type": "stream",
          "name": "stdout",
          "text": [
            "enter age13\n",
            " your age is profect\n",
            "try will be run\n"
          ]
        }
      ]
    }
  ]
}