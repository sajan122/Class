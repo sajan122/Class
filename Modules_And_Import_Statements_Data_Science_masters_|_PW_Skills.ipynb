{
  "nbformat": 4,
  "nbformat_minor": 0,
  "metadata": {
    "colab": {
      "provenance": [],
      "authorship_tag": "ABX9TyNy8JreuAvb0JcAOn/Q0Tmp",
      "include_colab_link": true
    },
    "kernelspec": {
      "name": "python3",
      "display_name": "Python 3"
    },
    "language_info": {
      "name": "python"
    }
  },
  "cells": [
    {
      "cell_type": "markdown",
      "metadata": {
        "id": "view-in-github",
        "colab_type": "text"
      },
      "source": [
        "<a href=\"https://colab.research.google.com/github/sajan122/Class/blob/main/Modules_And_Import_Statements_Data_Science_masters_%7C_PW_Skills.ipynb\" target=\"_parent\"><img src=\"https://colab.research.google.com/assets/colab-badge.svg\" alt=\"Open In Colab\"/></a>"
      ]
    },
    {
      "cell_type": "code",
      "metadata": {
        "id": "d315e8de",
        "colab": {
          "base_uri": "https://localhost:8080/",
          "height": 53
        },
        "outputId": "7285f3f6-655e-44fa-f4e0-4c5304a3373c"
      },
      "source": [
        "\n",
        "#mkdir -p pwclass/course\n",
        "\n",
        "#age app ise use karo ge to fill me jakar floder nahi bana padga\n",
        "#only google coulb\n",
        "#yeha khud chakar folder ke ander folder bana dega\n",
        "#%%writefile pwclass/course/course_details.py likh dego to fill bana dega usme\n",
        "#def course():\n",
        "''' print(\"this is my course\") fill me add ho jayega'''"
      ],
      "execution_count": null,
      "outputs": [
        {
          "output_type": "execute_result",
          "data": {
            "text/plain": [
              "' print(\"this is my course\") fill me add ho jayega'"
            ],
            "application/vnd.google.colaboratory.intrinsic+json": {
              "type": "string"
            }
          },
          "metadata": {},
          "execution_count": 48
        }
      ]
    },
    {
      "cell_type": "code",
      "metadata": {
        "colab": {
          "base_uri": "https://localhost:8080/"
        },
        "id": "7d45a48e",
        "outputId": "0399e875-985b-4b6d-b5c2-dee6587c9b26"
      },
      "source": [
        "%%writefile pwclass/course/course_details.py\n",
        "\n",
        "def course():\n",
        "    print(\"this is my course\")"
      ],
      "execution_count": null,
      "outputs": [
        {
          "output_type": "stream",
          "name": "stdout",
          "text": [
            "Overwriting pwclass/course/course_details.py\n"
          ]
        }
      ]
    },
    {
      "cell_type": "code",
      "source": [],
      "metadata": {
        "id": "5YdpwWMm9OHj"
      },
      "execution_count": null,
      "outputs": []
    },
    {
      "cell_type": "markdown",
      "source": [
        "fill to mene khu banaya lekin\n",
        "%%writefile pwclass/course/course_details.pyheah sierf function dilate ke liye lrkhe hai"
      ],
      "metadata": {
        "id": "7uJY_2oEYchg"
      }
    },
    {
      "cell_type": "code",
      "source": [
        "#mkdir -p pwclass/payment # pwclass second folder bana dega\n",
        "\"\"\"%%writefile pwclass/payment/payment_details.py lekana padegaa isme\"\"\""
      ],
      "metadata": {
        "id": "f6kS2bx32KIj",
        "colab": {
          "base_uri": "https://localhost:8080/",
          "height": 87
        },
        "outputId": "1cd799fb-234b-4ef1-9d34-f6aef9fe24ce"
      },
      "execution_count": null,
      "outputs": [
        {
          "output_type": "execute_result",
          "data": {
            "text/plain": [
              "'%%writefile pwclass/payment/payment_details.py lekana padegaa isme'"
            ],
            "application/vnd.google.colaboratory.intrinsic+json": {
              "type": "string"
            }
          },
          "metadata": {},
          "execution_count": 60
        }
      ]
    },
    {
      "cell_type": "markdown",
      "source": [],
      "metadata": {
        "id": "31M3lO4O000V"
      }
    },
    {
      "cell_type": "code",
      "source": [
        "%%writefile pwclass/payment/payment_details.py\n",
        "\n",
        "def payment():\n",
        "\n",
        "    print(\"this is my payment\")"
      ],
      "metadata": {
        "colab": {
          "base_uri": "https://localhost:8080/"
        },
        "id": "Vwt6Pf6pTyBv",
        "outputId": "3a989ac2-c378-4e3e-b6c2-507c8a6b9f9a"
      },
      "execution_count": null,
      "outputs": [
        {
          "output_type": "stream",
          "name": "stdout",
          "text": [
            "Overwriting pwclass/payment/payment_details.py\n"
          ]
        }
      ]
    },
    {
      "cell_type": "code",
      "source": [
        "'''%%writefile pwclass/course/course_details.py   iski jurat  nahi hota ager me mobike nahi kar raha hota to laptop hota to hm file me jakae likhe dete '''"
      ],
      "metadata": {
        "colab": {
          "base_uri": "https://localhost:8080/",
          "height": 139
        },
        "id": "L6Y4oN-8Wemg",
        "outputId": "cef9728b-73d1-4b4f-f09d-15910a2b6e0a"
      },
      "execution_count": null,
      "outputs": [
        {
          "output_type": "execute_result",
          "data": {
            "text/plain": [
              "'%%writefile pwclass/course/course_details.py   iski jurat  nahi hota ager me mobike nahi kar raha hota to laptop hota to hm file me jakae likhe dete '"
            ],
            "application/vnd.google.colaboratory.intrinsic+json": {
              "type": "string"
            }
          },
          "metadata": {},
          "execution_count": 58
        }
      ]
    },
    {
      "cell_type": "code",
      "source": [
        "%%writefile pwclass/course/course_details.py\n",
        "\n",
        "def course()from pwclass.payment import payment_details\n",
        "    print(\"this is my course\")\n",
        "    payment_details.payment()"
      ],
      "metadata": {
        "id": "onWNfQbF0HT5",
        "colab": {
          "base_uri": "https://localhost:8080/"
        },
        "outputId": "b8a33442-9ebd-49f5-dac3-69da23b4f955"
      },
      "execution_count": null,
      "outputs": [
        {
          "output_type": "stream",
          "name": "stdout",
          "text": [
            "Overwriting pwclass/course/course_details.py\n"
          ]
        }
      ]
    },
    {
      "cell_type": "code",
      "source": [
        "from pwclass.course import course_details\n",
        "course_details.course()"
      ],
      "metadata": {
        "colab": {
          "base_uri": "https://localhost:8080/"
        },
        "id": "fKJGG-dF1V04",
        "outputId": "6d99bda6-6a5a-40a2-811d-7b4b1e89c3dd"
      },
      "execution_count": null,
      "outputs": [
        {
          "output_type": "stream",
          "name": "stdout",
          "text": [
            "this is my course\n",
            "this is my payment\n"
          ]
        }
      ]
    },
    {
      "cell_type": "code",
      "source": [
        "\n",
        "import importlib\n",
        "from pwclass.payment import payment_details\n",
        "importlib.reload(payment_details)\n",
        "\n",
        "payment_details.payment()"
      ],
      "metadata": {
        "id": "dVnmdMc0A9nR"
      },
      "execution_count": null,
      "outputs": []
    },
    {
      "cell_type": "code",
      "source": [
        "%%writefile pwclass/payment/payment_details.py\n",
        "\n",
        "def payment():\n",
        "\n",
        "from pwclass.course import course_details  # function ke bad lekhne ka phayeda crircule error nahi aata hai jsta hai matlab tum couse se payment ko payment se course access ksr sakte ho\n",
        "    print(\"this is my payment\")\n",
        "    course_details.course()"
      ],
      "metadata": {
        "id": "gjsnGqsO3HUN",
        "colab": {
          "base_uri": "https://localhost:8080/"
        },
        "outputId": "9b9db072-1cd5-480d-aecd-6f42c5133d0a"
      },
      "execution_count": null,
      "outputs": [
        {
          "output_type": "stream",
          "name": "stdout",
          "text": [
            "Overwriting pwclass/payment/payment_details.py\n"
          ]
        }
      ]
    },
    {
      "cell_type": "code",
      "source": [],
      "metadata": {
        "id": "JRiLnbcaA8mY"
      },
      "execution_count": null,
      "outputs": []
    },
    {
      "cell_type": "code",
      "source": [
        "from pwclass.payment import payment_details\n",
        "payment_details.payment()"
      ],
      "metadata": {
        "colab": {
          "base_uri": "https://localhost:8080/"
        },
        "id": "wz8CrIwD5txZ",
        "outputId": "16f0428c-9d92-43b7-8214-a9e92a072c66"
      },
      "execution_count": null,
      "outputs": [
        {
          "output_type": "stream",
          "name": "stdout",
          "text": [
            "this is my payment\n"
          ]
        }
      ]
    }
  ]
}