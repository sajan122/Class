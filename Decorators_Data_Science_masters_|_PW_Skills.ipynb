{
  "nbformat": 4,
  "nbformat_minor": 0,
  "metadata": {
    "colab": {
      "provenance": [],
      "authorship_tag": "ABX9TyNFoc4Du8urSxI5CgAcFKgW",
      "include_colab_link": true
    },
    "kernelspec": {
      "name": "python3",
      "display_name": "Python 3"
    },
    "language_info": {
      "name": "python"
    }
  },
  "cells": [
    {
      "cell_type": "markdown",
      "metadata": {
        "id": "view-in-github",
        "colab_type": "text"
      },
      "source": [
        "<a href=\"https://colab.research.google.com/github/sajan122/Class/blob/main/Decorators_Data_Science_masters_%7C_PW_Skills.ipynb\" target=\"_parent\"><img src=\"https://colab.research.google.com/assets/colab-badge.svg\" alt=\"Open In Colab\"/></a>"
      ]
    },
    {
      "cell_type": "code",
      "execution_count": null,
      "metadata": {
        "id": "SxW2CvSfviN7"
      },
      "outputs": [],
      "source": [
        "def test():\n",
        "  print( \"this is strat my function\")\n",
        "  print(\"this is midlle my function\")\n",
        "  print(  5+9 )\n",
        "  print( \"this is end my function\" )"
      ]
    },
    {
      "cell_type": "code",
      "source": [
        "test() # ander print se print ho raha hau"
      ],
      "metadata": {
        "colab": {
          "base_uri": "https://localhost:8080/"
        },
        "id": "aPdEASxEw2bJ",
        "outputId": "6852ac39-e5b0-44e2-99db-ff0fee0bc3b9"
      },
      "execution_count": null,
      "outputs": [
        {
          "output_type": "stream",
          "name": "stdout",
          "text": [
            "this is strat my function\n",
            "this is midlle my function\n",
            "14\n",
            "this is end my function\n"
          ]
        }
      ]
    },
    {
      "cell_type": "code",
      "source": [
        "print(test())"
      ],
      "metadata": {
        "id": "8Q39bcD3w60a",
        "outputId": "683174da-f8ab-4499-930d-5ddc73f33ff9",
        "colab": {
          "base_uri": "https://localhost:8080/"
        }
      },
      "execution_count": null,
      "outputs": [
        {
          "output_type": "stream",
          "name": "stdout",
          "text": [
            "this is strat my function\n",
            "this is midlle my function\n",
            "14\n",
            "this is end my function\n",
            "None\n"
          ]
        }
      ]
    },
    {
      "cell_type": "code",
      "source": [
        "def deco(func):\n",
        "    def inner_deco():\n",
        "        print(\"this is start coding for me\")\n",
        "        func()\n",
        "        print(\"this is end coding for me\")\n",
        "    return inner_deco"
      ],
      "metadata": {
        "id": "QrHc_wL50tv2"
      },
      "execution_count": null,
      "outputs": []
    },
    {
      "cell_type": "code",
      "source": [],
      "metadata": {
        "id": "lVEg3s_ISPA2"
      },
      "execution_count": null,
      "outputs": []
    },
    {
      "cell_type": "code",
      "source": [
        "\n",
        "@deco\n",
        "def test():\n",
        "    print(5+5)"
      ],
      "metadata": {
        "id": "LEL7Rr1vQl6W"
      },
      "execution_count": null,
      "outputs": []
    },
    {
      "cell_type": "code",
      "source": [],
      "metadata": {
        "id": "cT61WbGVacoC"
      },
      "execution_count": null,
      "outputs": []
    },
    {
      "cell_type": "code",
      "source": [
        "test()"
      ],
      "metadata": {
        "colab": {
          "base_uri": "https://localhost:8080/"
        },
        "id": "EH0oFn3oSP0W",
        "outputId": "849dbf16-7302-491e-9aee-e3c8069f6900"
      },
      "execution_count": null,
      "outputs": [
        {
          "output_type": "stream",
          "name": "stdout",
          "text": [
            "this is start coding for me\n",
            "10\n",
            "this is end coding for me\n"
          ]
        }
      ]
    },
    {
      "cell_type": "code",
      "source": [
        "\n",
        "@deco\n",
        "def yours():\n",
        "    print(5*5)"
      ],
      "metadata": {
        "id": "xsWQTvgSSxbG"
      },
      "execution_count": null,
      "outputs": []
    },
    {
      "cell_type": "code",
      "source": [
        "yours()"
      ],
      "metadata": {
        "id": "gGj8CoZ8S2sQ",
        "outputId": "d99e0708-51a2-48b7-cefe-cf9558f1cc74",
        "colab": {
          "base_uri": "https://localhost:8080/"
        }
      },
      "execution_count": null,
      "outputs": [
        {
          "output_type": "stream",
          "name": "stdout",
          "text": [
            "this is start coding for me\n",
            "25\n",
            "this is end coding for me\n"
          ]
        }
      ]
    },
    {
      "cell_type": "code",
      "source": [
        "import time\n",
        "def timer_test(func):\n",
        "    def inner_timer_test():\n",
        "        start = time.time()\n",
        "        func()\n",
        "        end = time.time()\n",
        "       # print(start) kab start\n",
        "       # print(end) kab kham\n",
        "        print(end - start)\n",
        "    return inner_timer_test"
      ],
      "metadata": {
        "id": "j4A3BSl6YnFY"
      },
      "execution_count": null,
      "outputs": []
    },
    {
      "cell_type": "code",
      "source": [
        "\n",
        "@timer_test\n",
        "def chek_time():\n",
        "    print(8*1)"
      ],
      "metadata": {
        "id": "0Qr_RoncaduM"
      },
      "execution_count": null,
      "outputs": []
    },
    {
      "cell_type": "code",
      "source": [
        "chek_time()"
      ],
      "metadata": {
        "colab": {
          "base_uri": "https://localhost:8080/"
        },
        "id": "ZTKzKFG0aqyE",
        "outputId": "bea8e289-431e-4ef6-890b-b521978113b6"
      },
      "execution_count": null,
      "outputs": [
        {
          "output_type": "stream",
          "name": "stdout",
          "text": [
            "8\n",
            "5.459785461425781e-05\n"
          ]
        }
      ]
    }
  ]
}