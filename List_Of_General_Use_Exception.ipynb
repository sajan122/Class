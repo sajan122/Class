{
  "nbformat": 4,
  "nbformat_minor": 0,
  "metadata": {
    "colab": {
      "provenance": [],
      "authorship_tag": "ABX9TyPTvRB4lAcbbC1oWL5kMm9B",
      "include_colab_link": true
    },
    "kernelspec": {
      "name": "python3",
      "display_name": "Python 3"
    },
    "language_info": {
      "name": "python"
    }
  },
  "cells": [
    {
      "cell_type": "markdown",
      "metadata": {
        "id": "view-in-github",
        "colab_type": "text"
      },
      "source": [
        "<a href=\"https://colab.research.google.com/github/sajan122/Class/blob/main/List_Of_General_Use_Exception.ipynb\" target=\"_parent\"><img src=\"https://colab.research.google.com/assets/colab-badge.svg\" alt=\"Open In Colab\"/></a>"
      ]
    },
    {
      "cell_type": "code",
      "execution_count": null,
      "metadata": {
        "colab": {
          "base_uri": "https://localhost:8080/"
        },
        "id": "WRGFgQh_r_rE",
        "outputId": "87462263-d9df-4185-e613-f71d6220cb2b"
      },
      "outputs": [
        {
          "output_type": "stream",
          "name": "stdout",
          "text": [
            "division by zero\n"
          ]
        }
      ],
      "source": [
        "try:\n",
        "    10/0\n",
        "\n",
        "except ZeroDivisionError as e :\n",
        "    print(e)"
      ]
    },
    {
      "cell_type": "code",
      "source": [
        "try:\n",
        "    int(\"sudh\")\n",
        "\n",
        "except (ValueError,TypeError) as e:\n",
        "    print(e)"
      ],
      "metadata": {
        "colab": {
          "base_uri": "https://localhost:8080/"
        },
        "id": "IZE9ktAZwuP9",
        "outputId": "6e3394e3-67ac-4cc5-d610-ea1a01125667"
      },
      "execution_count": null,
      "outputs": [
        {
          "output_type": "stream",
          "name": "stdout",
          "text": [
            "invalid literal for int() with base 10: 'sudh'\n"
          ]
        }
      ]
    },
    {
      "cell_type": "code",
      "source": [
        "try:\n",
        "    int(\"sudh\")\n",
        "\n",
        "except:\n",
        "    print(\"this is valueerror\")\n",
        "\n",
        "    print(10/2)"
      ],
      "metadata": {
        "colab": {
          "base_uri": "https://localhost:8080/"
        },
        "id": "6G64Hslow1c3",
        "outputId": "d59bf062-5c0d-4075-bf02-778a11da40c5"
      },
      "execution_count": null,
      "outputs": [
        {
          "output_type": "stream",
          "name": "stdout",
          "text": [
            "this is valueerror\n",
            "5.0\n"
          ]
        }
      ]
    },
    {
      "cell_type": "code",
      "source": [
        "try:\n",
        "    int(\"sudh\")\n",
        "\n",
        "except Exception as e :\n",
        "    print(\"this is valueerror\",e)\n",
        "\n",
        "    print(10/2)"
      ],
      "metadata": {
        "colab": {
          "base_uri": "https://localhost:8080/"
        },
        "id": "y0mVyL4YzC6M",
        "outputId": "c80aee4a-6116-49a4-d3b6-b8cf6fd33bcd"
      },
      "execution_count": null,
      "outputs": [
        {
          "output_type": "stream",
          "name": "stdout",
          "text": [
            "this is valueerror invalid literal for int() with base 10: 'sudh'\n",
            "5.0\n"
          ]
        }
      ]
    },
    {
      "cell_type": "code",
      "source": [
        "try:\n",
        "    l = [1,2,3,4]\n",
        "    l[6]\n",
        "\n",
        "except IndexError as e:\n",
        "    print(e)"
      ],
      "metadata": {
        "colab": {
          "base_uri": "https://localhost:8080/"
        },
        "id": "GTkGLOKQzt71",
        "outputId": "400008d3-aa14-4694-aa8e-8c49a0a3fbab"
      },
      "execution_count": null,
      "outputs": [
        {
          "output_type": "stream",
          "name": "stdout",
          "text": [
            "list index out of range\n"
          ]
        }
      ]
    },
    {
      "cell_type": "code",
      "source": [
        "try:\n",
        "    d = {\"key\":[1,2,3],1:\"sudh\"}\n",
        "    d[\"key2\"]\n",
        "\n",
        "except KeyError as e:\n",
        "    print(e)"
      ],
      "metadata": {
        "colab": {
          "base_uri": "https://localhost:8080/"
        },
        "id": "gj7_w7e10yu5",
        "outputId": "cfac37bf-82b1-40a1-e763-947ec5199377"
      },
      "execution_count": null,
      "outputs": [
        {
          "output_type": "stream",
          "name": "stdout",
          "text": [
            "'key2'\n"
          ]
        }
      ]
    },
    {
      "cell_type": "code",
      "source": [
        " d = {\"key\":[1,2,3],1:\"sudh\"}"
      ],
      "metadata": {
        "id": "_f_8Fxlq2Fme"
      },
      "execution_count": null,
      "outputs": []
    },
    {
      "cell_type": "code",
      "source": [
        "d[\"key\"]"
      ],
      "metadata": {
        "colab": {
          "base_uri": "https://localhost:8080/"
        },
        "id": "keWz3jdq2JsA",
        "outputId": "6a9c12e2-5644-4a09-a759-945d82b9a5d4"
      },
      "execution_count": null,
      "outputs": [
        {
          "output_type": "execute_result",
          "data": {
            "text/plain": [
              "[1, 2, 3]"
            ]
          },
          "metadata": {},
          "execution_count": 66
        }
      ]
    },
    {
      "cell_type": "code",
      "source": [
        "d[\"key2\"]"
      ],
      "metadata": {
        "colab": {
          "base_uri": "https://localhost:8080/",
          "height": 245
        },
        "id": "yzgghqfV2--G",
        "outputId": "ef138ac0-32cf-413d-cdd3-ac0eed1332eb"
      },
      "execution_count": null,
      "outputs": [
        {
          "output_type": "error",
          "ename": "KeyError",
          "evalue": "'key2'",
          "traceback": [
            "\u001b[0;31m---------------------------------------------------------------------------\u001b[0m",
            "\u001b[0;31mKeyError\u001b[0m                                  Traceback (most recent call last)",
            "\u001b[0;32m/tmp/ipython-input-2544260753.py\u001b[0m in \u001b[0;36m<cell line: 0>\u001b[0;34m()\u001b[0m\n\u001b[0;32m----> 1\u001b[0;31m \u001b[0md\u001b[0m\u001b[0;34m[\u001b[0m\u001b[0;34m\"key2\"\u001b[0m\u001b[0;34m]\u001b[0m\u001b[0;34m\u001b[0m\u001b[0;34m\u001b[0m\u001b[0m\n\u001b[0m",
            "\u001b[0;31mKeyError\u001b[0m: 'key2'"
          ]
        }
      ]
    },
    {
      "cell_type": "code",
      "source": [
        "try:\n",
        "    import sajan\n",
        "\n",
        "except ImportError as e:\n",
        "    print(e)"
      ],
      "metadata": {
        "colab": {
          "base_uri": "https://localhost:8080/"
        },
        "id": "1-4St_dk5XoB",
        "outputId": "612fa726-ae8d-451c-aaf8-d0c307c8c806"
      },
      "execution_count": null,
      "outputs": [
        {
          "output_type": "stream",
          "name": "stdout",
          "text": [
            "No module named 'sajan'\n"
          ]
        }
      ]
    },
    {
      "cell_type": "code",
      "source": [
        "try:\n",
        "    123 + \"sudh\"\n",
        "\n",
        "except TypeError as e:\n",
        "    print(e)"
      ],
      "metadata": {
        "colab": {
          "base_uri": "https://localhost:8080/"
        },
        "id": "o_4NwTyr63p7",
        "outputId": "ca975ab2-0cec-49fc-a647-62a47f3122ac"
      },
      "execution_count": null,
      "outputs": [
        {
          "output_type": "stream",
          "name": "stdout",
          "text": [
            "unsupported operand type(s) for +: 'int' and 'str'\n"
          ]
        }
      ]
    },
    {
      "cell_type": "code",
      "source": [
        "try:\n",
        "    \"sudh\".test()\n",
        "except AttributeError as e:\n",
        "    print(e)"
      ],
      "metadata": {
        "colab": {
          "base_uri": "https://localhost:8080/"
        },
        "id": "OldXcVta_DiO",
        "outputId": "a2090b5f-4f4b-44e7-be69-377055b9e5a9"
      },
      "execution_count": null,
      "outputs": [
        {
          "output_type": "stream",
          "name": "stdout",
          "text": [
            "'str' object has no attribute 'test'\n"
          ]
        }
      ]
    },
    {
      "cell_type": "code",
      "source": [
        "try:\n",
        "    with open(\"text.tex\",'r') as f:\n",
        "        data = f.read()\n",
        "\n",
        "except FileNotFoundError as e:\n",
        "    print(e)\n",
        "12/3"
      ],
      "metadata": {
        "colab": {
          "base_uri": "https://localhost:8080/"
        },
        "id": "Ds1np5KL74_Y",
        "outputId": "7c266a65-832b-4959-9a61-6c50850c629e"
      },
      "execution_count": null,
      "outputs": [
        {
          "output_type": "stream",
          "name": "stdout",
          "text": [
            "[Errno 2] No such file or directory: 'text.tex'\n"
          ]
        },
        {
          "output_type": "execute_result",
          "data": {
            "text/plain": [
              "4.0"
            ]
          },
          "metadata": {},
          "execution_count": 99
        }
      ]
    },
    {
      "cell_type": "code",
      "source": [
        "try:\n",
        "    with open(\"text.tex\",'r') as f:\n",
        "       data =  f.read()\n",
        "\n",
        "except FileNotFoundError as e:\n",
        "    print(e)\n",
        "print(12/3)"
      ],
      "metadata": {
        "colab": {
          "base_uri": "https://localhost:8080/"
        },
        "id": "o7Ynpfw6CKUY",
        "outputId": "f243ce73-122e-416e-e923-4ce1fc18d442"
      },
      "execution_count": null,
      "outputs": [
        {
          "output_type": "stream",
          "name": "stdout",
          "text": [
            "[Errno 2] No such file or directory: 'text.tex'\n",
            "4.0\n"
          ]
        }
      ]
    },
    {
      "cell_type": "code",
      "source": [
        "try:\n",
        "    with open(\"text.tex\",'r') as f:\n",
        "        data = f.read()\n",
        "\n",
        "except FileNotFoundError as e:\n",
        "    print(e)\n",
        "l = [1,2,3,4] # except ke bahar\n",
        "l[2]"
      ],
      "metadata": {
        "colab": {
          "base_uri": "https://localhost:8080/"
        },
        "id": "LS7ToUkeDCxX",
        "outputId": "a878874b-ecab-4e01-e59b-ab9bcb0ae93a"
      },
      "execution_count": null,
      "outputs": [
        {
          "output_type": "stream",
          "name": "stdout",
          "text": [
            "[Errno 2] No such file or directory: 'text.tex'\n"
          ]
        },
        {
          "output_type": "execute_result",
          "data": {
            "text/plain": [
              "3"
            ]
          },
          "metadata": {},
          "execution_count": 108
        }
      ]
    },
    {
      "cell_type": "code",
      "source": [
        "try:\n",
        "    with open(\"text.tex\",'r') as f:\n",
        "        data = f.read()\n",
        "\n",
        "except FileNotFoundError as e:\n",
        "    print(\"test\",e)\n",
        "    l = [1,2,3,4] #except ander\n",
        "    print(l[2])"
      ],
      "metadata": {
        "colab": {
          "base_uri": "https://localhost:8080/"
        },
        "id": "8UvWe-ObChiA",
        "outputId": "05bae8db-5f29-4ad5-9ffc-22a39ca02f34"
      },
      "execution_count": null,
      "outputs": [
        {
          "output_type": "stream",
          "name": "stdout",
          "text": [
            "test [Errno 2] No such file or directory: 'text.tex'\n",
            "3\n"
          ]
        }
      ]
    },
    {
      "cell_type": "code",
      "source": [
        "try:\n",
        "    with open(\"text.tex\",'r') as f:\n",
        "        data = f.read()\n",
        "\n",
        "except Exception as e:\n",
        "    print(\"exception will be handile error \" ,e)\n",
        "\n",
        "except FileNotFoundError as e:\n",
        "    print(\"because this is useless\",e)\n",
        "    #koi error isme aa nahi raha hai to hes koi kam ka nahi hai isliye exception class ko bqdvme lekho\n",
        "    l = [1,2,3,4] #except ander\n",
        "    print(l[2])"
      ],
      "metadata": {
        "colab": {
          "base_uri": "https://localhost:8080/"
        },
        "id": "_bsOBj0XFDiY",
        "outputId": "da175910-8de0-461e-ba87-65b68151f25f"
      },
      "execution_count": null,
      "outputs": [
        {
          "output_type": "stream",
          "name": "stdout",
          "text": [
            "exception will be handile error  [Errno 2] No such file or directory: 'text.tex'\n"
          ]
        }
      ]
    },
    {
      "cell_type": "code",
      "source": [
        "try:\n",
        "    with open(\"text.tex\",'r') as f:\n",
        "        data = f.read()\n",
        "\n",
        "except TypeError as e:\n",
        "    print(e)\n",
        "    l = [1,2,3,4] #except ander\n",
        "    print(l[2])\n",
        "\n",
        "except ValueError as e:\n",
        "    print(e)\n",
        "    l = [1,2,3,4] #except ander\n",
        "    print(l[2])\n",
        "except IndexError as e:\n",
        "    print(e)\n",
        "    l = [1,2,3,4] #except ander\n",
        "    print(l[2])\n",
        "except FileNotFoundError as e:\n",
        "    print(e)\n",
        "    l = [1,2,3,4] #except ander\n",
        "    print(l[2])"
      ],
      "metadata": {
        "colab": {
          "base_uri": "https://localhost:8080/"
        },
        "id": "3Z0BfQzNGkn3",
        "outputId": "69732263-903a-421c-b33b-e6f3540a83eb"
      },
      "execution_count": null,
      "outputs": [
        {
          "output_type": "stream",
          "name": "stdout",
          "text": [
            "[Errno 2] No such file or directory: 'text.tex'\n",
            "3\n"
          ]
        }
      ]
    },
    {
      "cell_type": "code",
      "source": [
        "try:\n",
        "    with open(\"text.tex\",'r') as f:\n",
        "        data = f.read()\n",
        "\n",
        "except TypeError as e:\n",
        "    print(e)\n",
        "    l = [1,2,3,4] #except ander\n",
        "    print(l[2])\n",
        "\n",
        "except ValueError as e:\n",
        "    print(e)\n",
        "    l = [1,2,3,4] #except ander\n",
        "    print(l[2])\n",
        "except IndexError as e:\n",
        "    print(e)\n",
        "    l = [1,2,3,4] #except ander\n",
        "    print(l[2])\n",
        "except Exception as e:\n",
        "    print(\"exception will be handile error \" ,e)"
      ],
      "metadata": {
        "colab": {
          "base_uri": "https://localhost:8080/"
        },
        "id": "9crHvHzXHfoN",
        "outputId": "55771751-caaf-4157-93aa-9cb0d7eb5bac"
      },
      "execution_count": null,
      "outputs": [
        {
          "output_type": "stream",
          "name": "stdout",
          "text": [
            "exception will be handile error  [Errno 2] No such file or directory: 'text.tex'\n"
          ]
        }
      ]
    },
    {
      "cell_type": "code",
      "source": [],
      "metadata": {
        "id": "tBJB4sOME_bJ"
      },
      "execution_count": null,
      "outputs": []
    },
    {
      "cell_type": "code",
      "source": [
        "def test(file):\n",
        "    try:\n",
        "        with open(file,'r') as f:\n",
        "            data = f.read()\n",
        "\n",
        "    except FileNotFoundError as e:\n",
        "        print(\"file\",e)"
      ],
      "metadata": {
        "id": "fhpXC7mv-q0r"
      },
      "execution_count": null,
      "outputs": []
    }
  ]
}