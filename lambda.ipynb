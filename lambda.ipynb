{
  "nbformat": 4,
  "nbformat_minor": 0,
  "metadata": {
    "colab": {
      "provenance": [],
      "authorship_tag": "ABX9TyPhrCps5E0b8PJ9i7VJUQwC",
      "include_colab_link": true
    },
    "kernelspec": {
      "name": "python3",
      "display_name": "Python 3"
    },
    "language_info": {
      "name": "python"
    }
  },
  "cells": [
    {
      "cell_type": "markdown",
      "metadata": {
        "id": "view-in-github",
        "colab_type": "text"
      },
      "source": [
        "<a href=\"https://colab.research.google.com/github/sajan122/Class/blob/main/lambda.ipynb\" target=\"_parent\"><img src=\"https://colab.research.google.com/assets/colab-badge.svg\" alt=\"Open In Colab\"/></a>"
      ]
    },
    {
      "cell_type": "code",
      "execution_count": null,
      "metadata": {
        "id": "TyP8PIddFtca"
      },
      "outputs": [],
      "source": [
        "n = 2\n",
        "p = 3"
      ]
    },
    {
      "cell_type": "code",
      "source": [],
      "metadata": {
        "id": "Vzj39XKiGHKI"
      },
      "execution_count": null,
      "outputs": []
    },
    {
      "cell_type": "code",
      "source": [
        "def test(n,p):\n",
        "    return n+p"
      ],
      "metadata": {
        "id": "I4z5kxhoF2PF"
      },
      "execution_count": null,
      "outputs": []
    },
    {
      "cell_type": "code",
      "source": [
        "test(2,3)"
      ],
      "metadata": {
        "colab": {
          "base_uri": "https://localhost:8080/"
        },
        "id": "do5nxDjEGICF",
        "outputId": "399c48c0-0e1d-46d1-f54e-6f4301db7410"
      },
      "execution_count": null,
      "outputs": [
        {
          "output_type": "execute_result",
          "data": {
            "text/plain": [
              "5"
            ]
          },
          "metadata": {},
          "execution_count": 6
        }
      ]
    },
    {
      "cell_type": "code",
      "source": [
        "add = lambda n,p:n+p"
      ],
      "metadata": {
        "id": "o-5IDD53GMGK"
      },
      "execution_count": null,
      "outputs": []
    },
    {
      "cell_type": "code",
      "source": [
        "add(2,3)"
      ],
      "metadata": {
        "id": "EuN7IVEnGXf1",
        "outputId": "28db7261-665b-4976-ad49-311e683841cc",
        "colab": {
          "base_uri": "https://localhost:8080/"
        }
      },
      "execution_count": null,
      "outputs": [
        {
          "output_type": "execute_result",
          "data": {
            "text/plain": [
              "5"
            ]
          },
          "metadata": {},
          "execution_count": 11
        }
      ]
    },
    {
      "cell_type": "code",
      "source": [
        "def test2(a,b):\n",
        "    return a**b"
      ],
      "metadata": {
        "id": "jbMRDEOGGt9F"
      },
      "execution_count": null,
      "outputs": []
    },
    {
      "cell_type": "code",
      "source": [
        "test2(3,2)"
      ],
      "metadata": {
        "id": "eXI7mkTUGdYm",
        "colab": {
          "base_uri": "https://localhost:8080/"
        },
        "outputId": "998328da-1273-47d9-9a33-ef9d27bb8a5c"
      },
      "execution_count": null,
      "outputs": [
        {
          "output_type": "execute_result",
          "data": {
            "text/plain": [
              "9"
            ]
          },
          "metadata": {},
          "execution_count": 16
        }
      ]
    },
    {
      "cell_type": "code",
      "source": [
        "h= lambda a,b : a**b"
      ],
      "metadata": {
        "id": "JODdvkhqHnXq"
      },
      "execution_count": null,
      "outputs": []
    },
    {
      "cell_type": "code",
      "source": [
        "h(3,2)"
      ],
      "metadata": {
        "colab": {
          "base_uri": "https://localhost:8080/"
        },
        "id": "H9R8qignHwbM",
        "outputId": "f7dabb81-bbc6-41d6-fa23-33e58b4add4a"
      },
      "execution_count": null,
      "outputs": [
        {
          "output_type": "execute_result",
          "data": {
            "text/plain": [
              "9"
            ]
          },
          "metadata": {},
          "execution_count": 20
        }
      ]
    },
    {
      "cell_type": "code",
      "source": [
        "hi = lambda x,y : x  if x>y else  y"
      ],
      "metadata": {
        "id": "AS5gRXmzIE_W"
      },
      "execution_count": null,
      "outputs": []
    },
    {
      "cell_type": "code",
      "source": [
        "hi(30,2)"
      ],
      "metadata": {
        "colab": {
          "base_uri": "https://localhost:8080/"
        },
        "id": "WRyo8UzxISUZ",
        "outputId": "738161d2-c4c0-4cca-f033-cc4b1462edff"
      },
      "execution_count": null,
      "outputs": [
        {
          "output_type": "execute_result",
          "data": {
            "text/plain": [
              "30"
            ]
          },
          "metadata": {},
          "execution_count": 36
        }
      ]
    },
    {
      "cell_type": "code",
      "source": [
        "hi(2,4)"
      ],
      "metadata": {
        "colab": {
          "base_uri": "https://localhost:8080/"
        },
        "id": "Fm6cNvu7IxMs",
        "outputId": "b3d04aae-5ba6-4873-cf4d-622f5824d7cd"
      },
      "execution_count": null,
      "outputs": [
        {
          "output_type": "execute_result",
          "data": {
            "text/plain": [
              "4"
            ]
          },
          "metadata": {},
          "execution_count": 37
        }
      ]
    },
    {
      "cell_type": "code",
      "source": [
        "s = \"pwskills\""
      ],
      "metadata": {
        "id": "gZWy0YSpJwfN"
      },
      "execution_count": null,
      "outputs": []
    },
    {
      "cell_type": "code",
      "source": [
        "find_len = lambda s : len(s)"
      ],
      "metadata": {
        "id": "ilJNtXeDMs-w"
      },
      "execution_count": null,
      "outputs": []
    },
    {
      "cell_type": "code",
      "source": [
        "find_len(s)"
      ],
      "metadata": {
        "id": "6DzkVe-6J19s",
        "colab": {
          "base_uri": "https://localhost:8080/"
        },
        "outputId": "b71982c3-7618-4901-c26e-849a66be3983"
      },
      "execution_count": null,
      "outputs": [
        {
          "output_type": "execute_result",
          "data": {
            "text/plain": [
              "8"
            ]
          },
          "metadata": {},
          "execution_count": 13
        }
      ]
    },
    {
      "cell_type": "code",
      "source": [
        "c_to_f =lambda c : (9/5)*c+32"
      ],
      "metadata": {
        "id": "HTriNKN1MlTD"
      },
      "execution_count": null,
      "outputs": []
    },
    {
      "cell_type": "code",
      "source": [
        "c_to_f(45)"
      ],
      "metadata": {
        "colab": {
          "base_uri": "https://localhost:8080/"
        },
        "id": "gNnNqyuPNWap",
        "outputId": "e8a8aede-e428-49b2-a52a-85e538f0c147"
      },
      "execution_count": null,
      "outputs": [
        {
          "output_type": "execute_result",
          "data": {
            "text/plain": [
              "113.0"
            ]
          },
          "metadata": {},
          "execution_count": 33
        }
      ]
    },
    {
      "cell_type": "code",
      "source": [],
      "metadata": {
        "id": "Kk57jC0eKQQK"
      },
      "execution_count": null,
      "outputs": []
    }
  ]
}