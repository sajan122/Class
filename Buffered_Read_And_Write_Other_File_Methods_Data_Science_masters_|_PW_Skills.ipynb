{
  "nbformat": 4,
  "nbformat_minor": 0,
  "metadata": {
    "colab": {
      "provenance": [],
      "authorship_tag": "ABX9TyPyQKoxLto6cFGEcdp8TOVj",
      "include_colab_link": true
    },
    "kernelspec": {
      "name": "python3",
      "display_name": "Python 3"
    },
    "language_info": {
      "name": "python"
    }
  },
  "cells": [
    {
      "cell_type": "markdown",
      "metadata": {
        "id": "view-in-github",
        "colab_type": "text"
      },
      "source": [
        "<a href=\"https://colab.research.google.com/github/sajan122/Class/blob/main/Buffered_Read_And_Write_Other_File_Methods_Data_Science_masters_%7C_PW_Skills.ipynb\" target=\"_parent\"><img src=\"https://colab.research.google.com/assets/colab-badge.svg\" alt=\"Open In Colab\"/></a>"
      ]
    },
    {
      "cell_type": "code",
      "execution_count": null,
      "metadata": {
        "id": "-thQt04mU1iv"
      },
      "outputs": [],
      "source": [
        "import io"
      ]
    },
    {
      "cell_type": "code",
      "source": [
        "with open(\"test.txt\",\"wb\") as f:\n",
        "   fill = io.BufferedWriter(f)\n",
        "\n",
        "\n",
        "\n",
        "   fill.write(b\"this is my fist buffered fill\\n\")\n",
        "   fill.write(b\"this is my lovely class\\n\")\n",
        "   fill.flush()"
      ],
      "metadata": {
        "id": "Go-OozgXVAxJ"
      },
      "execution_count": null,
      "outputs": []
    },
    {
      "cell_type": "code",
      "source": [
        "with open(\"test.txt\",\"rb\") as f:\n",
        "   fill = io.BufferedReader(f)\n",
        "   print(fill.read())"
      ],
      "metadata": {
        "id": "faTulX1OWGai",
        "colab": {
          "base_uri": "https://localhost:8080/"
        },
        "outputId": "bad8bab2-36db-4892-c881-9bed370c3f62"
      },
      "execution_count": null,
      "outputs": [
        {
          "output_type": "stream",
          "name": "stdout",
          "text": [
            "b'this is my fist buffered fill\\nthis is my lovely class\\n'\n"
          ]
        }
      ]
    },
    {
      "cell_type": "code",
      "source": [
        "with open(\"test.txt\",\"rb\") as f:\n",
        "   fill = io.BufferedReader(f)\n",
        "   print(fill.read(10))"
      ],
      "metadata": {
        "colab": {
          "base_uri": "https://localhost:8080/"
        },
        "id": "dRkSOlXaZt1I",
        "outputId": "16964779-be2d-4453-b17a-3ce58cf0318c"
      },
      "execution_count": null,
      "outputs": [
        {
          "output_type": "stream",
          "name": "stdout",
          "text": [
            "b'this is my'\n"
          ]
        }
      ]
    }
  ]
}