{
  "nbformat": 4,
  "nbformat_minor": 0,
  "metadata": {
    "colab": {
      "provenance": [],
      "authorship_tag": "ABX9TyOlz7Q7VqDVEI1Y6lQuYx8C",
      "include_colab_link": true
    },
    "kernelspec": {
      "name": "python3",
      "display_name": "Python 3"
    },
    "language_info": {
      "name": "python"
    }
  },
  "cells": [
    {
      "cell_type": "markdown",
      "metadata": {
        "id": "view-in-github",
        "colab_type": "text"
      },
      "source": [
        "<a href=\"https://colab.research.google.com/github/sajan122/Class/blob/main/Reading_And_Writing_Files_Data_Science_masters_%7C_PW_Skills.ipynb\" target=\"_parent\"><img src=\"https://colab.research.google.com/assets/colab-badge.svg\" alt=\"Open In Colab\"/></a>"
      ]
    },
    {
      "cell_type": "code",
      "execution_count": null,
      "metadata": {
        "id": "cmlctb_IMrfo"
      },
      "outputs": [],
      "source": [
        "data = {\n",
        "\"name\":'sajan',\n",
        "\"gmail_id\":\"sajan@123\",\n",
        "\"mobile_no\":777337888,\n",
        "\"subject\":[\"data science\",\"web_dev\",\"data anliyise\"]\n",
        "}"
      ]
    },
    {
      "cell_type": "code",
      "source": [
        "import json"
      ],
      "metadata": {
        "id": "DdHSqFEDNr_Z"
      },
      "execution_count": null,
      "outputs": []
    },
    {
      "cell_type": "code",
      "source": [
        "with open(\"data.json\",'w') as f:\n",
        "    json.dump(data,f)"
      ],
      "metadata": {
        "id": "Zrckvc96NxUD"
      },
      "execution_count": null,
      "outputs": []
    },
    {
      "cell_type": "code",
      "source": [
        "'''f = open(\"data.json\",'w')\n",
        "json.dump(data,f)\n",
        "f.close() same to same'''"
      ],
      "metadata": {
        "colab": {
          "base_uri": "https://localhost:8080/",
          "height": 70
        },
        "id": "bei8i48VPbNc",
        "outputId": "46482f0a-9200-485b-fc71-0294a8df2e4d"
      },
      "execution_count": null,
      "outputs": [
        {
          "output_type": "execute_result",
          "data": {
            "text/plain": [
              "'f = open(\"data.json\",\\'w\\')\\njson.dump(data,f)\\nf.close() same to same'"
            ],
            "application/vnd.google.colaboratory.intrinsic+json": {
              "type": "string"
            }
          },
          "metadata": {},
          "execution_count": 38
        }
      ]
    },
    {
      "cell_type": "code",
      "source": [
        "with open(\"data.json\",'r') as f :\n",
        "    data1=json.load(f)"
      ],
      "metadata": {
        "id": "JTm9C1q6PO3n"
      },
      "execution_count": null,
      "outputs": []
    },
    {
      "cell_type": "code",
      "source": [
        "data1"
      ],
      "metadata": {
        "id": "FZUNWWPYQ1Bd",
        "outputId": "2d6d89c5-ae6c-4d9b-c785-c0b6409b9f93",
        "colab": {
          "base_uri": "https://localhost:8080/"
        }
      },
      "execution_count": null,
      "outputs": [
        {
          "output_type": "execute_result",
          "data": {
            "text/plain": [
              "{'name': 'sajan',\n",
              " 'gmail_id': 'sajan@123',\n",
              " 'mobile_no': 777337888,\n",
              " 'subject': ['data science', 'web_dev', 'data anliyise']}"
            ]
          },
          "metadata": {},
          "execution_count": 30
        }
      ]
    },
    {
      "cell_type": "code",
      "source": [
        "data[\"subject\"]"
      ],
      "metadata": {
        "id": "XEmJt012Q2ud",
        "colab": {
          "base_uri": "https://localhost:8080/"
        },
        "outputId": "2278a32a-3bba-4b8b-dd7c-dd3d6d2955e1"
      },
      "execution_count": null,
      "outputs": [
        {
          "output_type": "execute_result",
          "data": {
            "text/plain": [
              "['data science', 'web_dev', 'data anliyise']"
            ]
          },
          "metadata": {},
          "execution_count": 32
        }
      ]
    },
    {
      "cell_type": "code",
      "source": [
        "data[\"subject\"][1]"
      ],
      "metadata": {
        "colab": {
          "base_uri": "https://localhost:8080/",
          "height": 35
        },
        "id": "veQPItGjSL3G",
        "outputId": "f49e85b6-1c29-4d8a-b6e1-f7792d42ea07"
      },
      "execution_count": null,
      "outputs": [
        {
          "output_type": "execute_result",
          "data": {
            "text/plain": [
              "'web_dev'"
            ],
            "application/vnd.google.colaboratory.intrinsic+json": {
              "type": "string"
            }
          },
          "metadata": {},
          "execution_count": 34
        }
      ]
    },
    {
      "cell_type": "code",
      "source": [
        "with open(\"data.json\",'r') as f :\n",
        "    print(json.load(f))"
      ],
      "metadata": {
        "colab": {
          "base_uri": "https://localhost:8080/"
        },
        "id": "W0jFNWBBSTLr",
        "outputId": "11a1ad20-3118-402c-c246-83b42056f715"
      },
      "execution_count": null,
      "outputs": [
        {
          "output_type": "stream",
          "name": "stdout",
          "text": [
            "{'name': 'sajan', 'gmail_id': 'sajan@123', 'mobile_no': 777337888, 'subject': ['data science', 'web_dev', 'data anliyise']}\n"
          ]
        }
      ]
    },
    {
      "cell_type": "code",
      "source": [
        "import csv"
      ],
      "metadata": {
        "id": "IKxmw6uCVYE4"
      },
      "execution_count": null,
      "outputs": []
    },
    {
      "cell_type": "code",
      "source": [
        "data = [[\"name\",\"mobole_no\",\"gamil_id\",\"cast\"],\n",
        "        [\"sajan\", 7484933175,\"  sajan@123\",\"  BC-2\"],\n",
        "        [\"vishal\", 6299913032,\"  vishal@121\",\"  BC-2\"],\n",
        "        [\"banty\",  9183578050,\"  banty@12\",\" BC-2\"]\n",
        "       ]"
      ],
      "metadata": {
        "id": "jnWdXi-rShLj"
      },
      "execution_count": null,
      "outputs": []
    },
    {
      "cell_type": "code",
      "source": [
        "with open (\"data.csv\",'w') as f:\n",
        "   writer = csv.writer(f)\n",
        "\n",
        "   for i in data:\n",
        "       writer.writerow(i)"
      ],
      "metadata": {
        "id": "S75l9_RUVWBU"
      },
      "execution_count": null,
      "outputs": []
    },
    {
      "cell_type": "code",
      "source": [
        "with open (\"data.csv\",'r') as f:\n",
        "     reader_data = csv.reader(f)\n",
        "\n",
        "     for i in reader_data:\n",
        "        print(i)"
      ],
      "metadata": {
        "id": "bLc6PHGdV_nV",
        "colab": {
          "base_uri": "https://localhost:8080/"
        },
        "outputId": "2a4107cb-dfec-4bcf-bfcf-43eab87a3b52"
      },
      "execution_count": null,
      "outputs": [
        {
          "output_type": "stream",
          "name": "stdout",
          "text": [
            "['name', 'mobole_no', 'gamil_id', 'cast']\n",
            "['sajan', '7484933175', '  sajan@123', '  BC-2']\n",
            "['vishal', '6299913032', '  vishal@121', '  BC-2']\n",
            "['banty', '9183578050', '  banty@12', ' BC-2']\n"
          ]
        }
      ]
    },
    {
      "cell_type": "code",
      "source": [
        "with open(\"test4.bin\",\"wb\") as f:\n",
        "    f.write(b\"\\x01\\x02\\x03\\x75788\")"
      ],
      "metadata": {
        "id": "3C-pvk1wfjdh"
      },
      "execution_count": null,
      "outputs": []
    },
    {
      "cell_type": "code",
      "source": [
        "with open(\"test4.bin\",\"rb\") as f:\n",
        "    print(f.read())"
      ],
      "metadata": {
        "colab": {
          "base_uri": "https://localhost:8080/"
        },
        "id": "Hnaa-SwUgE-k",
        "outputId": "cb915a4b-96f1-4944-f3ff-48f18f277eb8"
      },
      "execution_count": null,
      "outputs": [
        {
          "output_type": "stream",
          "name": "stdout",
          "text": [
            "b'\\x01\\x02\\x03u788'\n"
          ]
        }
      ]
    }
  ]
}