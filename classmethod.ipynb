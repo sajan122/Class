{
  "nbformat": 4,
  "nbformat_minor": 0,
  "metadata": {
    "colab": {
      "provenance": [],
      "authorship_tag": "ABX9TyOMfB5UxeThTL/utIIWNxDu",
      "include_colab_link": true
    },
    "kernelspec": {
      "name": "python3",
      "display_name": "Python 3"
    },
    "language_info": {
      "name": "python"
    }
  },
  "cells": [
    {
      "cell_type": "markdown",
      "metadata": {
        "id": "view-in-github",
        "colab_type": "text"
      },
      "source": [
        "<a href=\"https://colab.research.google.com/github/sajan122/Class/blob/main/classmethod.ipynb\" target=\"_parent\"><img src=\"https://colab.research.google.com/assets/colab-badge.svg\" alt=\"Open In Colab\"/></a>"
      ]
    },
    {
      "cell_type": "code",
      "execution_count": null,
      "metadata": {
        "id": "D2f1n1CekfyM"
      },
      "outputs": [],
      "source": [
        " class pwskills:\n",
        "    def __init__(self,name,emil_id ):\n",
        "        self.name = name\n",
        "        self.emil_id = emil_id\n",
        "\n",
        "\n",
        "\n",
        "    def studrnt_detials(self):\n",
        "        return self.name,self.emil_id,"
      ]
    },
    {
      "cell_type": "code",
      "source": [
        "pw = pwskills(\"sajan\",\"sajan@123\")"
      ],
      "metadata": {
        "id": "GQ47eFQ7lMJG"
      },
      "execution_count": null,
      "outputs": []
    },
    {
      "cell_type": "code",
      "source": [],
      "metadata": {
        "id": "TtOKdZRKqOwH",
        "colab": {
          "base_uri": "https://localhost:8080/"
        },
        "outputId": "431918d7-0e52-4371-cc1d-d7242d56eceb"
      },
      "execution_count": null,
      "outputs": [
        {
          "output_type": "stream",
          "name": "stdout",
          "text": [
            "1110\n"
          ]
        }
      ]
    },
    {
      "cell_type": "code",
      "source": [
        "pw.name"
      ],
      "metadata": {
        "colab": {
          "base_uri": "https://localhost:8080/",
          "height": 35
        },
        "id": "4dgr1XTQmHO4",
        "outputId": "36871241-965c-4064-af1c-2bc42232a243"
      },
      "execution_count": null,
      "outputs": [
        {
          "output_type": "execute_result",
          "data": {
            "text/plain": [
              "'sajan'"
            ],
            "application/vnd.google.colaboratory.intrinsic+json": {
              "type": "string"
            }
          },
          "metadata": {},
          "execution_count": 8
        }
      ]
    },
    {
      "cell_type": "code",
      "source": [
        "pw.studrnt_detials()"
      ],
      "metadata": {
        "colab": {
          "base_uri": "https://localhost:8080/"
        },
        "id": "WUkhIsVintY9",
        "outputId": "e50015cb-a6c9-4c41-cf4f-5c64f4ec555c"
      },
      "execution_count": null,
      "outputs": [
        {
          "output_type": "execute_result",
          "data": {
            "text/plain": [
              "('sajan', 'sajan@123')"
            ]
          },
          "metadata": {},
          "execution_count": 9
        }
      ]
    },
    {
      "cell_type": "code",
      "source": [],
      "metadata": {
        "id": "TTkUIWUJqQO_"
      },
      "execution_count": null,
      "outputs": []
    },
    {
      "cell_type": "code",
      "source": [
        "class pwskills1:\n",
        "    def __init__(self,name,emil_id ):\n",
        "        self.name = name\n",
        "        self.emil_id = emil_id\n",
        "\n",
        "    @classmethod\n",
        "    def details(cls,name,emil_id):\n",
        "        return cls( name,emil_id)\n",
        "\n",
        "\n",
        "    def studrnt_detials(self):\n",
        "        return self.name,self.emil_id"
      ],
      "metadata": {
        "id": "gKfXB6XYqfIj"
      },
      "execution_count": null,
      "outputs": []
    },
    {
      "cell_type": "code",
      "source": [
        "pw1 = pwskills1.details(\"sajan\",\"sajan@123\")"
      ],
      "metadata": {
        "id": "r2uPQq2rq9Sc",
        "colab": {
          "base_uri": "https://localhost:8080/"
        },
        "outputId": "e4fc67a9-7416-487d-b9ff-9a788aab99bb"
      },
      "execution_count": null,
      "outputs": [
        {
          "output_type": "stream",
          "name": "stdout",
          "text": [
            "<__main__.pwskills1 object at 0x7c8f52c3b620>\n"
          ]
        }
      ]
    },
    {
      "cell_type": "code",
      "source": [
        "pw1.name"
      ],
      "metadata": {
        "colab": {
          "base_uri": "https://localhost:8080/",
          "height": 35
        },
        "id": "JQPLOo1DrZkZ",
        "outputId": "b9094eb8-ce16-40cf-f1f4-6f5075d84ef3"
      },
      "execution_count": null,
      "outputs": [
        {
          "output_type": "execute_result",
          "data": {
            "text/plain": [
              "'sajan'"
            ],
            "application/vnd.google.colaboratory.intrinsic+json": {
              "type": "string"
            }
          },
          "metadata": {},
          "execution_count": 5
        }
      ]
    },
    {
      "cell_type": "code",
      "source": [
        "pw1.emil_id"
      ],
      "metadata": {
        "colab": {
          "base_uri": "https://localhost:8080/",
          "height": 35
        },
        "id": "Kje7K8Z9r43L",
        "outputId": "db299a24-7689-4699-afd2-72128bc40ffb"
      },
      "execution_count": null,
      "outputs": [
        {
          "output_type": "execute_result",
          "data": {
            "text/plain": [
              "'sajan@123'"
            ],
            "application/vnd.google.colaboratory.intrinsic+json": {
              "type": "string"
            }
          },
          "metadata": {},
          "execution_count": 6
        }
      ]
    },
    {
      "cell_type": "code",
      "source": [],
      "metadata": {
        "colab": {
          "base_uri": "https://localhost:8080/"
        },
        "id": "yqc2K6NLH7V2",
        "outputId": "4d6bfadd-7046-4417-c55c-c198adef54ec"
      },
      "execution_count": null,
      "outputs": [
        {
          "output_type": "execute_result",
          "data": {
            "text/plain": [
              "<__main__.pwskills1 at 0x7c8f52c67740>"
            ]
          },
          "metadata": {},
          "execution_count": 10
        }
      ]
    },
    {
      "cell_type": "code",
      "source": [
        "pw1.studrnt_detials()"
      ],
      "metadata": {
        "colab": {
          "base_uri": "https://localhost:8080/"
        },
        "id": "_t32HSqKr-Jw",
        "outputId": "d5bece49-ecc8-4da0-d25e-1ebd339e32b6"
      },
      "execution_count": null,
      "outputs": [
        {
          "output_type": "execute_result",
          "data": {
            "text/plain": [
              "('sajan', 'sajan@123')"
            ]
          },
          "metadata": {},
          "execution_count": 10
        }
      ]
    },
    {
      "cell_type": "code",
      "source": [
        "class pwskills2:\n",
        "\n",
        "    mobile_no = 7484933175\n",
        "\n",
        "    def __init__(self,name,emil_id ):\n",
        "        self.name = name\n",
        "        self.emil_id = emil_id\n",
        "\n",
        "    @classmethod\n",
        "    def details(cls,name,emil_id):\n",
        "        return cls( name,emil_id)\n",
        "\n",
        "\n",
        "    def studrnt_detials(self):\n",
        "        return self.name,self.emil_id"
      ],
      "metadata": {
        "id": "V4JUefJisJJY"
      },
      "execution_count": null,
      "outputs": []
    },
    {
      "cell_type": "code",
      "source": [],
      "metadata": {
        "id": "lwFESA1EkZBU"
      },
      "execution_count": null,
      "outputs": []
    },
    {
      "cell_type": "code",
      "source": [
        "pwskills2.mobile_no"
      ],
      "metadata": {
        "colab": {
          "base_uri": "https://localhost:8080/"
        },
        "id": "7Dwv-x9zkCRn",
        "outputId": "69916b0d-417a-4202-d68d-c4d3fdd06c86"
      },
      "execution_count": null,
      "outputs": [
        {
          "output_type": "execute_result",
          "data": {
            "text/plain": [
              "7484933175"
            ]
          },
          "metadata": {},
          "execution_count": 15
        }
      ]
    },
    {
      "cell_type": "code",
      "source": [
        "class pwskills3:\n",
        "\n",
        "    mobile_no = 7484933175\n",
        "\n",
        "    def __init__(self,name,emil_id ):\n",
        "        self.name = name\n",
        "        self.emil_id = emil_id\n",
        "\n",
        "    @classmethod\n",
        "    def change_no(cls,mobile_no):\n",
        "        return cls( mobile_no)\n",
        "# show erro kyuki app ne mobile no\n",
        "#init me nahi hai ap ko ager binna init\n",
        "#meb likhe  show karan hai to\n",
        "#pwskills3.mobile_no = mobile use karo return ke jagaha par\n",
        "\n",
        "    @classmethod\n",
        "    def details(cls,name,emil_id):\n",
        "        return cls( name,emil_id)\n",
        "\n",
        "\n",
        "    def studrnt_detials(self):\n",
        "        return self.name,self.emil_id"
      ],
      "metadata": {
        "id": "9PLpDwgZkZ9U"
      },
      "execution_count": null,
      "outputs": []
    },
    {
      "cell_type": "code",
      "source": [
        "pwskills3.change_no(7484933176)"
      ],
      "metadata": {
        "colab": {
          "base_uri": "https://localhost:8080/",
          "height": 419
        },
        "id": "Iv73MaBOlBuw",
        "outputId": "67f6c472-ae18-4db5-de63-e1441a1460f1"
      },
      "execution_count": null,
      "outputs": [
        {
          "output_type": "error",
          "ename": "TypeError",
          "evalue": "pwskills3.__init__() missing 1 required positional argument: 'emil_id'",
          "traceback": [
            "\u001b[0;31m---------------------------------------------------------------------------\u001b[0m",
            "\u001b[0;31mTypeError\u001b[0m                                 Traceback (most recent call last)",
            "\u001b[0;32m/tmp/ipython-input-2392924621.py\u001b[0m in \u001b[0;36m<cell line: 0>\u001b[0;34m()\u001b[0m\n\u001b[0;32m----> 1\u001b[0;31m \u001b[0mpwskills3\u001b[0m\u001b[0;34m.\u001b[0m\u001b[0mchange_no\u001b[0m\u001b[0;34m(\u001b[0m\u001b[0;36m7484933176\u001b[0m\u001b[0;34m)\u001b[0m\u001b[0;34m\u001b[0m\u001b[0;34m\u001b[0m\u001b[0m\n\u001b[0m",
            "\u001b[0;32m/tmp/ipython-input-58622647.py\u001b[0m in \u001b[0;36mchange_no\u001b[0;34m(cls, mobile)\u001b[0m\n\u001b[1;32m      9\u001b[0m     \u001b[0;34m@\u001b[0m\u001b[0mclassmethod\u001b[0m\u001b[0;34m\u001b[0m\u001b[0;34m\u001b[0m\u001b[0m\n\u001b[1;32m     10\u001b[0m     \u001b[0;32mdef\u001b[0m \u001b[0mchange_no\u001b[0m\u001b[0;34m(\u001b[0m\u001b[0mcls\u001b[0m\u001b[0;34m,\u001b[0m\u001b[0mmobile\u001b[0m\u001b[0;34m)\u001b[0m\u001b[0;34m:\u001b[0m\u001b[0;34m\u001b[0m\u001b[0;34m\u001b[0m\u001b[0m\n\u001b[0;32m---> 11\u001b[0;31m         \u001b[0;32mreturn\u001b[0m \u001b[0mcls\u001b[0m\u001b[0;34m(\u001b[0m \u001b[0mmobile\u001b[0m\u001b[0;34m)\u001b[0m\u001b[0;34m\u001b[0m\u001b[0;34m\u001b[0m\u001b[0m\n\u001b[0m\u001b[1;32m     12\u001b[0m \u001b[0;34m\u001b[0m\u001b[0m\n\u001b[1;32m     13\u001b[0m     \u001b[0;34m@\u001b[0m\u001b[0mclassmethod\u001b[0m\u001b[0;34m\u001b[0m\u001b[0;34m\u001b[0m\u001b[0m\n",
            "\u001b[0;31mTypeError\u001b[0m: pwskills3.__init__() missing 1 required positional argument: 'emil_id'"
          ]
        }
      ]
    },
    {
      "cell_type": "code",
      "source": [
        "class pwskills4:\n",
        "\n",
        "    mobile_no = 7484933175\n",
        "\n",
        "    def __init__(self,name,emil_id ):\n",
        "        self.name = name\n",
        "        self.emil_id = emil_id\n",
        "\n",
        "    @classmethod\n",
        "    def change_no(cls,mobile):\n",
        "        pwskills4.mobile_no = mobile\n",
        "\n",
        "    @classmethod\n",
        "    def details(cls,name,emil_id):\n",
        "        return cls( name,emil_id)\n",
        "\n",
        "\n",
        "    def studrnt_detials(self) :\n",
        "        return self.name,self.emil_id"
      ],
      "metadata": {
        "id": "zyG-yOKumuGC"
      },
      "execution_count": null,
      "outputs": []
    },
    {
      "cell_type": "code",
      "source": [
        "pwskills4.mobile_no"
      ],
      "metadata": {
        "id": "RuDg7lbkn7KD",
        "outputId": "a229885a-a258-4167-dd4b-bc1623964dbf",
        "colab": {
          "base_uri": "https://localhost:8080/"
        }
      },
      "execution_count": null,
      "outputs": [
        {
          "output_type": "execute_result",
          "data": {
            "text/plain": [
              "7484933175"
            ]
          },
          "metadata": {},
          "execution_count": 38
        }
      ]
    },
    {
      "cell_type": "code",
      "source": [
        "pwskills4.change_no(7393933993)"
      ],
      "metadata": {
        "id": "mEidtk2qqAmT"
      },
      "execution_count": null,
      "outputs": []
    },
    {
      "cell_type": "code",
      "source": [
        "pwskills4.mobile_no"
      ],
      "metadata": {
        "colab": {
          "base_uri": "https://localhost:8080/"
        },
        "id": "U584UDtwq5MV",
        "outputId": "99d4abfe-2e4c-43b6-82e7-a1378621b63f"
      },
      "execution_count": null,
      "outputs": [
        {
          "output_type": "execute_result",
          "data": {
            "text/plain": [
              "7393933993"
            ]
          },
          "metadata": {},
          "execution_count": 42
        }
      ]
    },
    {
      "cell_type": "code",
      "source": [
        "class pwskills5:\n",
        "\n",
        "    mobile_no = 7484933175\n",
        "\n",
        "    def __init__(self,name,emil_id ):\n",
        "        self.name = name\n",
        "        self.emil_id = emil_id\n",
        "\n",
        "    @classmethod\n",
        "    def change_no(cls,mobile):\n",
        "        pwskills5.mobile_no = mobile\n",
        "        return  mobile_no\n",
        "\n",
        "    @classmethod\n",
        "    def details(cls,name,emil_id):\n",
        "        return cls( name,emil_id)\n",
        "\n",
        "\n",
        "    def studrnt_detials(self):\n",
        "        return self.name,self.emil_id,pwskills5.mobile_no3"
      ],
      "metadata": {
        "id": "YxH2kyiHrOGh"
      },
      "execution_count": null,
      "outputs": []
    },
    {
      "cell_type": "code",
      "source": [
        "pw_obj = pwskills5(\"sajan\",\"sajan@123\")"
      ],
      "metadata": {
        "id": "BcBshWLpuek2"
      },
      "execution_count": null,
      "outputs": []
    },
    {
      "cell_type": "code",
      "source": [
        "pw_obj.studrnt_detials()"
      ],
      "metadata": {
        "colab": {
          "base_uri": "https://localhost:8080/"
        },
        "id": "8F0BDpV5vlQq",
        "outputId": "1124213c-7763-443f-dda8-dd7aac3e5268"
      },
      "execution_count": null,
      "outputs": [
        {
          "output_type": "execute_result",
          "data": {
            "text/plain": [
              "('sajan', 'sajan@123', 5678899534)"
            ]
          },
          "metadata": {},
          "execution_count": 74
        }
      ]
    },
    {
      "cell_type": "code",
      "source": [
        "pwskills5.change_no(5678899534)"
      ],
      "metadata": {
        "id": "9z_5drc-vvar",
        "colab": {
          "base_uri": "https://localhost:8080/"
        },
        "outputId": "590e53a4-5325-44a4-d077-cc889d531317"
      },
      "execution_count": null,
      "outputs": [
        {
          "output_type": "execute_result",
          "data": {
            "text/plain": [
              "5678899534"
            ]
          },
          "metadata": {},
          "execution_count": 137
        }
      ]
    },
    {
      "cell_type": "code",
      "source": [
        "pw = pwskills5.details(\"sajan\",\"sajan@123\")"
      ],
      "metadata": {
        "id": "OblfclOpwAZW"
      },
      "execution_count": null,
      "outputs": []
    },
    {
      "cell_type": "code",
      "source": [],
      "metadata": {
        "id": "TA5Y9Yz77llr"
      },
      "execution_count": null,
      "outputs": []
    },
    {
      "cell_type": "code",
      "source": [
        "pw_obj.studrnt_detials()"
      ],
      "metadata": {
        "colab": {
          "base_uri": "https://localhost:8080/"
        },
        "id": "YR1SEN5Hw--Y",
        "outputId": "fcc41364-27d0-4ded-89c2-c5068af7698e"
      },
      "execution_count": null,
      "outputs": [
        {
          "output_type": "execute_result",
          "data": {
            "text/plain": [
              "('sajan', 'sajan@123', 5678899534)"
            ]
          },
          "metadata": {},
          "execution_count": 139
        }
      ]
    },
    {
      "cell_type": "code",
      "source": [
        "pw.studrnt_detials()"
      ],
      "metadata": {
        "id": "q7rrn5Ilxez6",
        "outputId": "9fd6504c-1493-4362-e42a-eff961ce9418",
        "colab": {
          "base_uri": "https://localhost:8080/"
        }
      },
      "execution_count": null,
      "outputs": [
        {
          "output_type": "execute_result",
          "data": {
            "text/plain": [
              "('sajan', 'sajan@123', 5678899534)"
            ]
          },
          "metadata": {},
          "execution_count": 86
        }
      ]
    },
    {
      "cell_type": "code",
      "source": [
        "class pwskills6:\n",
        "\n",
        "    mobile_no = 7484933175\n",
        "\n",
        "    def __init__(self,name,emil_id ):\n",
        "        self.name = name\n",
        "        self.emil_id = emil_id\n",
        "\n",
        "    @classmethod\n",
        "    def change_no(cls,mobile):\n",
        "        pwskills6.mobile_no = mobile\n",
        "       # return  mobile\n",
        "\n",
        "    @classmethod\n",
        "    def details(cls,name,emil_id):\n",
        "        return cls( name,emil_id)\n",
        "\n",
        "    @classmethod\n",
        "    def add_mum(cls,course):\n",
        "        pwskills6.course = course\n",
        "\n",
        "        return course\n",
        "\n",
        "\n",
        "    def studrnt_detials(self):\n",
        "        return self.name,self.emil_id,pwskills6.mobile_no,pwskills6.course"
      ],
      "metadata": {
        "id": "GZIHRW_-zfGQ"
      },
      "execution_count": null,
      "outputs": []
    },
    {
      "cell_type": "code",
      "source": [
        "pwskills6.add_mum('data science')"
      ],
      "metadata": {
        "colab": {
          "base_uri": "https://localhost:8080/",
          "height": 35
        },
        "id": "4TGjxejT0zw3",
        "outputId": "aa512f2c-e236-4d43-8862-8a575a65038a"
      },
      "execution_count": null,
      "outputs": [
        {
          "output_type": "execute_result",
          "data": {
            "text/plain": [
              "'data science'"
            ],
            "application/vnd.google.colaboratory.intrinsic+json": {
              "type": "string"
            }
          },
          "metadata": {},
          "execution_count": 364
        }
      ]
    },
    {
      "cell_type": "code",
      "source": [
        "pw = pwskills6.details(\"sajan\",\"sajan@123\")"
      ],
      "metadata": {
        "id": "ZclR-Evd7mp2"
      },
      "execution_count": null,
      "outputs": []
    },
    {
      "cell_type": "code",
      "source": [
        "pw.studrnt_detials()"
      ],
      "metadata": {
        "colab": {
          "base_uri": "https://localhost:8080/"
        },
        "id": "-naCb9jl84wy",
        "outputId": "ea31d9cc-040c-4b0a-d045-c7a9a2cee863"
      },
      "execution_count": null,
      "outputs": [
        {
          "output_type": "execute_result",
          "data": {
            "text/plain": [
              "('sajan', 'sajan@123', 7484933175, 'data science')"
            ]
          },
          "metadata": {},
          "execution_count": 365
        }
      ]
    },
    {
      "cell_type": "code",
      "source": [
        "pw2 = pwskills6.details(\"sajan\",\"sajan@123\")"
      ],
      "metadata": {
        "id": "fvdzXq6X9_oP"
      },
      "execution_count": null,
      "outputs": []
    },
    {
      "cell_type": "code",
      "source": [
        "pw2.studrnt_detials()"
      ],
      "metadata": {
        "colab": {
          "base_uri": "https://localhost:8080/"
        },
        "id": "0WaBdx1S-HnD",
        "outputId": "fb38d694-2cf1-4800-b037-3d29c17ab92b"
      },
      "execution_count": null,
      "outputs": [
        {
          "output_type": "execute_result",
          "data": {
            "text/plain": [
              "('sajan', 'sajan@123', 7484933175, 'data science')"
            ]
          },
          "metadata": {},
          "execution_count": 146
        }
      ]
    },
    {
      "cell_type": "code",
      "source": [
        "class pwskills7:\n",
        "\n",
        "    mobile_no = 7484933175\n",
        "\n",
        "    def __init__(self,name,emil_id ):\n",
        "        self.name = name\n",
        "        self.emil_id = emil_id\n",
        "\n",
        "    @classmethod\n",
        "    def change_no(cls,mobile):\n",
        "        pwskills7.mobile_no = mobile\n",
        "        #return  mobile\n",
        "\n",
        "    @classmethod\n",
        "    def add_num(cls,name,emil_id,course):\n",
        "        return cls(name,emil_id,course)\n",
        "\n",
        "    @classmethod\n",
        "    def details(cls,name,emil_id):\n",
        "        return cls( name,emil_id)\n",
        "\n",
        "\n",
        "    def studrnt_detials(self):\n",
        "        return self.name,self.emil_id,pwskills5.mobile_no"
      ],
      "metadata": {
        "id": "RjQI0j36_WwA"
      },
      "execution_count": null,
      "outputs": []
    },
    {
      "cell_type": "code",
      "source": [
        "pwskills7.add_num(\"sajan\",\"sajan@123\",\"datascience\")"
      ],
      "metadata": {
        "colab": {
          "base_uri": "https://localhost:8080/",
          "height": 456
        },
        "id": "HMQPPfIdAG0u",
        "outputId": "f8b7a00a-9a4a-4ab8-8366-c38f7b9b6d45"
      },
      "execution_count": null,
      "outputs": [
        {
          "output_type": "error",
          "ename": "TypeError",
          "evalue": "pwskills7.__init__() takes 3 positional arguments but 4 were given",
          "traceback": [
            "\u001b[0;31m---------------------------------------------------------------------------\u001b[0m",
            "\u001b[0;31mTypeError\u001b[0m                                 Traceback (most recent call last)",
            "\u001b[0;32m/tmp/ipython-input-3445975152.py\u001b[0m in \u001b[0;36m<cell line: 0>\u001b[0;34m()\u001b[0m\n\u001b[0;32m----> 1\u001b[0;31m \u001b[0mpwskills7\u001b[0m\u001b[0;34m.\u001b[0m\u001b[0madd_num\u001b[0m\u001b[0;34m(\u001b[0m\u001b[0;34m\"sajan\"\u001b[0m\u001b[0;34m,\u001b[0m\u001b[0;34m\"sajan@123\"\u001b[0m\u001b[0;34m,\u001b[0m\u001b[0;34m\"datascience\"\u001b[0m\u001b[0;34m)\u001b[0m\u001b[0;34m\u001b[0m\u001b[0;34m\u001b[0m\u001b[0m\n\u001b[0m",
            "\u001b[0;32m/tmp/ipython-input-1094552424.py\u001b[0m in \u001b[0;36madd_num\u001b[0;34m(cls, name, emil_id, course)\u001b[0m\n\u001b[1;32m     14\u001b[0m     \u001b[0;34m@\u001b[0m\u001b[0mclassmethod\u001b[0m\u001b[0;34m\u001b[0m\u001b[0;34m\u001b[0m\u001b[0m\n\u001b[1;32m     15\u001b[0m     \u001b[0;32mdef\u001b[0m \u001b[0madd_num\u001b[0m\u001b[0;34m(\u001b[0m\u001b[0mcls\u001b[0m\u001b[0;34m,\u001b[0m\u001b[0mname\u001b[0m\u001b[0;34m,\u001b[0m\u001b[0memil_id\u001b[0m\u001b[0;34m,\u001b[0m\u001b[0mcourse\u001b[0m\u001b[0;34m)\u001b[0m\u001b[0;34m:\u001b[0m\u001b[0;34m\u001b[0m\u001b[0;34m\u001b[0m\u001b[0m\n\u001b[0;32m---> 16\u001b[0;31m         \u001b[0;32mreturn\u001b[0m \u001b[0mcls\u001b[0m\u001b[0;34m(\u001b[0m\u001b[0mname\u001b[0m\u001b[0;34m,\u001b[0m\u001b[0memil_id\u001b[0m\u001b[0;34m,\u001b[0m\u001b[0mcourse\u001b[0m\u001b[0;34m)\u001b[0m\u001b[0;34m\u001b[0m\u001b[0;34m\u001b[0m\u001b[0m\n\u001b[0m\u001b[1;32m     17\u001b[0m \u001b[0;34m\u001b[0m\u001b[0m\n\u001b[1;32m     18\u001b[0m     \u001b[0;34m@\u001b[0m\u001b[0mclassmethod\u001b[0m\u001b[0;34m\u001b[0m\u001b[0;34m\u001b[0m\u001b[0m\n",
            "\u001b[0;31mTypeError\u001b[0m: pwskills7.__init__() takes 3 positional arguments but 4 were given"
          ]
        }
      ]
    },
    {
      "cell_type": "markdown",
      "metadata": {
        "id": "e4a129be"
      },
      "source": [
        "Here is the corrected class definition including `course` in the `__init__` method:"
      ]
    },
    {
      "cell_type": "code",
      "metadata": {
        "id": "63781eb2"
      },
      "source": [
        "class pwskills8:\n",
        "\n",
        "    mobile_no = 7484933175\n",
        "\n",
        "    def __init__(self,name,emil_id):\n",
        "        self.name = name\n",
        "        self.emil_id = emil_id\n",
        "\n",
        "\n",
        "    @classmethod\n",
        "    def change_no(cls,mobile):\n",
        "        pwskills8.mobile_no = mobile\n",
        "        #return  mobile\n",
        "\n",
        "    @classmethod\n",
        "    def add_num(cls,name,emil_id,course):\n",
        "        obj = cls(name,emil_id)\n",
        "        obj.course = course # ab obj me course add ho jayega\n",
        "        return obj #isliye obj call kiya hai\n",
        "\n",
        "    @classmethod\n",
        "    def details(cls,name,emil_id):\n",
        "        return cls( name,emil_id)\n",
        "\n",
        "\n",
        "    def studrnt_detials(self):\n",
        "        return self.name,self.emil_id, pwskills8.mobile_no,self.course"
      ],
      "execution_count": null,
      "outputs": []
    },
    {
      "cell_type": "code",
      "source": [
        "pwskills8.change_no(33566789)"
      ],
      "metadata": {
        "id": "-CxKNPpFU2Jj"
      },
      "execution_count": null,
      "outputs": []
    },
    {
      "cell_type": "code",
      "source": [
        "pwskills8.mobile_no"
      ],
      "metadata": {
        "colab": {
          "base_uri": "https://localhost:8080/"
        },
        "id": "uLIG-H-TVFcO",
        "outputId": "258a61c6-bb83-44d7-b984-3043b398d609"
      },
      "execution_count": null,
      "outputs": [
        {
          "output_type": "execute_result",
          "data": {
            "text/plain": [
              "33566789"
            ]
          },
          "metadata": {},
          "execution_count": 138
        }
      ]
    },
    {
      "cell_type": "markdown",
      "metadata": {
        "id": "e0bf6fc6"
      },
      "source": [
        "Now you can call `add_num` and it will create an instance with name, email, and course."
      ]
    },
    {
      "cell_type": "code",
      "metadata": {
        "id": "1e9f0c69"
      },
      "source": [
        "pw8 = pwskills8.add_num(\"sajan\",\"sajan@123\",\"datascience\")"
      ],
      "execution_count": null,
      "outputs": []
    },
    {
      "cell_type": "code",
      "source": [
        "pw8.studrnt_detials()"
      ],
      "metadata": {
        "colab": {
          "base_uri": "https://localhost:8080/"
        },
        "id": "5hMAp6GAHpcG",
        "outputId": "94d87ba6-bf5d-4807-d5b3-a1b04ea99abf"
      },
      "execution_count": null,
      "outputs": [
        {
          "output_type": "execute_result",
          "data": {
            "text/plain": [
              "('sajan', 'sajan@123', 33566789, 'datascience')"
            ]
          },
          "metadata": {},
          "execution_count": 140
        }
      ]
    },
    {
      "cell_type": "code",
      "source": [
        "pw8.course"
      ],
      "metadata": {
        "colab": {
          "base_uri": "https://localhost:8080/",
          "height": 35
        },
        "id": "vuLuYraS7i0X",
        "outputId": "4483e52d-32b3-4c86-b388-e4fb1042b709"
      },
      "execution_count": null,
      "outputs": [
        {
          "output_type": "execute_result",
          "data": {
            "text/plain": [
              "'datascience'"
            ],
            "application/vnd.google.colaboratory.intrinsic+json": {
              "type": "string"
            }
          },
          "metadata": {},
          "execution_count": 141
        }
      ]
    },
    {
      "cell_type": "code",
      "source": [
        "class pwskills9:\n",
        "\n",
        "    mobile_no = 7484933175\n",
        "\n",
        "    def __init__(self,name,emil_id ):\n",
        "        self.name = name\n",
        "        self.emil_id = emil_id\n",
        "\n",
        "    @classmethod\n",
        "    def change_no(cls,mobile):\n",
        "        cls.mobile_no = mobile #but change pwskills9 ki jagah hmne cls use keya hai\n",
        "       # return  mobile         #jiske hoga  ki class name chang kane par   bhi chalaga\n",
        "\n",
        "    @classmethod\n",
        "    def details(cls,name,emil_id):\n",
        "        return cls( name,emil_id)\n",
        "\n",
        "    @classmethod\n",
        "    def add_num(cls,course):\n",
        "        cls.course = course #wahe kiye hai\n",
        "\n",
        "        return course\n",
        "\n",
        "\n",
        "    def studrnt_detials(self):\n",
        "        return self.name,self.emil_id,__class__.mobile_no,__class__.course\n",
        "\n",
        "#same to same\n",
        "\n",
        "\n",
        "\n",
        "'''class pwskills6:\n",
        "\n",
        "    mobile_no = 7484933175\n",
        "\n",
        "    def __init__(self,name,emil_id ):\n",
        "        self.name = name\n",
        "        self.emil_id = emil_id\n",
        "\n",
        "    @classmethod\n",
        "    def change_no(cls,mobile):\n",
        "        pwskills6.mobile_no = mobile\n",
        "       # return  mobile\n",
        "\n",
        "    @classmethod\n",
        "    def details(cls,name,emil_id):\n",
        "        return cls( name,emil_id)\n",
        "\n",
        "    @classmethod\n",
        "    def add_mum(cls,course):\n",
        "        pwskills6.course = course\n",
        "\n",
        "        return course\n",
        "\n",
        "\n",
        "    def studrnt_detials(self):\n",
        "        return self.name,self.emil_id,pwskills6.mobile_no,pwskills6.course'''"
      ],
      "metadata": {
        "colab": {
          "base_uri": "https://localhost:8080/",
          "height": 296
        },
        "id": "BPMqsJDs7mZw",
        "outputId": "fce58b18-c35f-48ed-f6c8-c2cf125ff12c"
      },
      "execution_count": null,
      "outputs": [
        {
          "output_type": "execute_result",
          "data": {
            "text/plain": [
              "'class pwskills6:\\n\\n    mobile_no = 7484933175\\n\\n    def __init__(self,name,emil_id ):\\n        self.name = name\\n        self.emil_id = emil_id\\n\\n    @classmethod\\n    def change_no(cls,mobile):\\n        pwskills6.mobile_no = mobile\\n       # return  mobile\\n\\n    @classmethod\\n    def details(cls,name,emil_id):\\n        return cls( name,emil_id)\\n\\n    @classmethod\\n    def add_mum(cls,course):\\n        pwskills6.course = course\\n\\n        return course\\n\\n\\n    def studrnt_detials(self):\\n        return self.name,self.emil_id,pwskills6.mobile_no,pwskills6.course'"
            ],
            "application/vnd.google.colaboratory.intrinsic+json": {
              "type": "string"
            }
          },
          "metadata": {},
          "execution_count": 134
        }
      ]
    },
    {
      "cell_type": "code",
      "source": [
        "pwskills9.mobile_no"
      ],
      "metadata": {
        "colab": {
          "base_uri": "https://localhost:8080/"
        },
        "id": "uz20fVbz8BCM",
        "outputId": "0c1001e1-2a63-49b2-a61a-f5a5332153eb"
      },
      "execution_count": null,
      "outputs": [
        {
          "output_type": "execute_result",
          "data": {
            "text/plain": [
              "7484933175"
            ]
          },
          "metadata": {},
          "execution_count": 126
        }
      ]
    },
    {
      "cell_type": "code",
      "source": [
        "cls.change_no()"
      ],
      "metadata": {
        "colab": {
          "base_uri": "https://localhost:8080/",
          "height": 211
        },
        "id": "hfVFRJpd9Tcf",
        "outputId": "4fa27046-39bc-47db-da0e-ab99a345c880"
      },
      "execution_count": null,
      "outputs": [
        {
          "output_type": "error",
          "ename": "NameError",
          "evalue": "name 'cls' is not defined",
          "traceback": [
            "\u001b[0;31m---------------------------------------------------------------------------\u001b[0m",
            "\u001b[0;31mNameError\u001b[0m                                 Traceback (most recent call last)",
            "\u001b[0;32m/tmp/ipython-input-3149158227.py\u001b[0m in \u001b[0;36m<cell line: 0>\u001b[0;34m()\u001b[0m\n\u001b[0;32m----> 1\u001b[0;31m \u001b[0mcls\u001b[0m\u001b[0;34m.\u001b[0m\u001b[0mchange_no\u001b[0m\u001b[0;34m(\u001b[0m\u001b[0;34m)\u001b[0m\u001b[0;34m\u001b[0m\u001b[0;34m\u001b[0m\u001b[0m\n\u001b[0m",
            "\u001b[0;31mNameError\u001b[0m: name 'cls' is not defined"
          ]
        }
      ]
    },
    {
      "cell_type": "code",
      "source": [
        "pwskills9.change_no(383888388)"
      ],
      "metadata": {
        "id": "fJeg7Zk69mMX"
      },
      "execution_count": null,
      "outputs": []
    },
    {
      "cell_type": "code",
      "source": [
        "pwskills9.mobile_no"
      ],
      "metadata": {
        "colab": {
          "base_uri": "https://localhost:8080/"
        },
        "id": "I4Qm9BmC9sRB",
        "outputId": "1e79b48d-3924-408b-c3e5-e7a4f79a4945"
      },
      "execution_count": null,
      "outputs": [
        {
          "output_type": "execute_result",
          "data": {
            "text/plain": [
              "383888388"
            ]
          },
          "metadata": {},
          "execution_count": 129
        }
      ]
    },
    {
      "cell_type": "code",
      "source": [
        " pwskills9.add_num(\"data science\")"
      ],
      "metadata": {
        "colab": {
          "base_uri": "https://localhost:8080/",
          "height": 35
        },
        "id": "RduUymyEDB6v",
        "outputId": "53c934e4-5bee-4d6a-eb3b-e4cf22ac6038"
      },
      "execution_count": null,
      "outputs": [
        {
          "output_type": "execute_result",
          "data": {
            "text/plain": [
              "'data science'"
            ],
            "application/vnd.google.colaboratory.intrinsic+json": {
              "type": "string"
            }
          },
          "metadata": {},
          "execution_count": 182
        }
      ]
    },
    {
      "cell_type": "code",
      "source": [
        "pw = pwskills9(\"sajan\",\"daguu87\")"
      ],
      "metadata": {
        "id": "WNIKvf6jDshZ"
      },
      "execution_count": null,
      "outputs": []
    },
    {
      "cell_type": "code",
      "source": [],
      "metadata": {
        "id": "qrMBCpLlMOgf"
      },
      "execution_count": null,
      "outputs": []
    },
    {
      "cell_type": "code",
      "source": [
        "pw.studrnt_detials()"
      ],
      "metadata": {
        "colab": {
          "base_uri": "https://localhost:8080/"
        },
        "id": "UJG1AoPRD-eG",
        "outputId": "57c91584-7a1f-4358-ef02-a7c577c87202"
      },
      "execution_count": null,
      "outputs": [
        {
          "output_type": "execute_result",
          "data": {
            "text/plain": [
              "('sajan', 'daguu87', 383888388, 'datascience')"
            ]
          },
          "metadata": {},
          "execution_count": 135
        }
      ]
    },
    {
      "cell_type": "code",
      "source": [
        "class pwskills10:\n",
        "\n",
        "    mobile_no = 7484933175\n",
        "\n",
        "    def __init__(self,name,emil_id ):\n",
        "        self.name = name\n",
        "        self.emil_id = emil_id\n",
        "\n",
        "    @classmethod\n",
        "    def change_no(cls,mobile):\n",
        "        cls.mobile_no = mobile #but change pwskills9 ki jagah hmne cls use keya hai\n",
        "       # return cls. mobile         #jiske hoga  ki class name chang kane par   bhi chalaga\n",
        "\n",
        "    @classmethod\n",
        "    def details(cls,name,emil_id):\n",
        "        return cls( name,emil_id)\n",
        "\n",
        "    @classmethod\n",
        "    def add_num(cls,course):\n",
        "        cls.course = course # wahi hoga\n",
        "\n",
        "        return course # = return cls.curse same\n",
        "\n",
        "\n",
        "    def studrnt_detials(self):\n",
        "        return self.name,self.emil_id,__class__.mobile_no,__class__.cast"
      ],
      "metadata": {
        "id": "8er-pjzZ97wX"
      },
      "execution_count": null,
      "outputs": []
    },
    {
      "cell_type": "code",
      "source": [
        "pwskills10.mobile"
      ],
      "metadata": {
        "colab": {
          "base_uri": "https://localhost:8080/",
          "height": 245
        },
        "id": "Tmr_Dea6VuWa",
        "outputId": "339dd5a9-4cdd-4f3f-8842-e0195ab32599"
      },
      "execution_count": null,
      "outputs": [
        {
          "output_type": "error",
          "ename": "AttributeError",
          "evalue": "type object 'pwskills10' has no attribute 'mobile'",
          "traceback": [
            "\u001b[0;31m---------------------------------------------------------------------------\u001b[0m",
            "\u001b[0;31mAttributeError\u001b[0m                            Traceback (most recent call last)",
            "\u001b[0;32m/tmp/ipython-input-2146575711.py\u001b[0m in \u001b[0;36m<cell line: 0>\u001b[0;34m()\u001b[0m\n\u001b[0;32m----> 1\u001b[0;31m \u001b[0mpwskills10\u001b[0m\u001b[0;34m.\u001b[0m\u001b[0mmobile\u001b[0m\u001b[0;34m\u001b[0m\u001b[0;34m\u001b[0m\u001b[0m\n\u001b[0m",
            "\u001b[0;31mAttributeError\u001b[0m: type object 'pwskills10' has no attribute 'mobile'"
          ]
        }
      ]
    },
    {
      "cell_type": "code",
      "source": [
        "pwskills10.mobile_no"
      ],
      "metadata": {
        "colab": {
          "base_uri": "https://localhost:8080/"
        },
        "id": "eGHJfR71V20t",
        "outputId": "07d7896c-df68-45b9-a9dd-5ecbbb9de489"
      },
      "execution_count": null,
      "outputs": [
        {
          "output_type": "execute_result",
          "data": {
            "text/plain": [
              "7484933175"
            ]
          },
          "metadata": {},
          "execution_count": 352
        }
      ]
    },
    {
      "cell_type": "code",
      "source": [],
      "metadata": {
        "id": "onLknCkoWKjk"
      },
      "execution_count": null,
      "outputs": []
    },
    {
      "cell_type": "markdown",
      "metadata": {
        "id": "0790fbec"
      },
      "source": [
        "Here is the corrected `add_cast` function that assigns `cast` as a class attribute:"
      ]
    },
    {
      "cell_type": "code",
      "metadata": {
        "id": "04e7774f"
      },
      "source": [
        "def add_cast(cls, cast):\n",
        "    cls.cast = cast # Assign the cast as a class attribute\n",
        "    return cast"
      ],
      "execution_count": null,
      "outputs": []
    },
    {
      "cell_type": "markdown",
      "metadata": {
        "id": "199e6c94"
      },
      "source": [
        "Now, re-assign the corrected function as a class method:"
      ]
    },
    {
      "cell_type": "code",
      "metadata": {
        "id": "65734eab"
      },
      "source": [
        "pwskills10.add_cast = classmethod(add_cast)"
      ],
      "execution_count": null,
      "outputs": []
    },
    {
      "cell_type": "markdown",
      "metadata": {
        "id": "ab251ba3"
      },
      "source": [
        "Now, when you call `add_cast`, the `cast` attribute will be added to the class, and `studrnt_detials` will be able to access it."
      ]
    },
    {
      "cell_type": "code",
      "metadata": {
        "colab": {
          "base_uri": "https://localhost:8080/",
          "height": 35
        },
        "id": "3131d3f8",
        "outputId": "37b7c250-9436-45e0-aa3b-644114c9f9be"
      },
      "source": [
        "pwskills10.add_cast(\"hindu\")"
      ],
      "execution_count": null,
      "outputs": [
        {
          "output_type": "execute_result",
          "data": {
            "text/plain": [
              "'hindu'"
            ],
            "application/vnd.google.colaboratory.intrinsic+json": {
              "type": "string"
            }
          },
          "metadata": {},
          "execution_count": 343
        }
      ]
    },
    {
      "cell_type": "code",
      "metadata": {
        "id": "af5500fe"
      },
      "source": [
        "pw = pwskills10(\"sajan\",\"daguu87\")"
      ],
      "execution_count": null,
      "outputs": []
    },
    {
      "cell_type": "code",
      "metadata": {
        "colab": {
          "base_uri": "https://localhost:8080/"
        },
        "id": "95e662e2",
        "outputId": "a3c14cc5-355c-4e28-d670-97b336388cc4"
      },
      "source": [
        "pw.studrnt_detials()"
      ],
      "execution_count": null,
      "outputs": [
        {
          "output_type": "execute_result",
          "data": {
            "text/plain": [
              "('sajan', 'daguu87', 7484933175, 'hindu')"
            ]
          },
          "metadata": {},
          "execution_count": 345
        }
      ]
    },
    {
      "cell_type": "code",
      "source": [
        "class pwskills11:\n",
        "\n",
        "    mobile_no = 7484933175\n",
        "\n",
        "    def __init__(self,name,emil_id ):\n",
        "        self.name = name\n",
        "        self.emil_id = emil_id\n",
        "\n",
        "    @classmethod\n",
        "    def change_no(cls,mobile):\n",
        "        cls.mobile_no = mobile #but change pwskills9 ki jagah hmne cls use keya hai\n",
        "       # return cls. mobile         #jiske hoga  ki class name chang kane par   bhi chalaga\n",
        "\n",
        "    @classmethod\n",
        "    def details(cls,name,emil_id):\n",
        "        return cls( name,emil_id)\n",
        "\n",
        "    @classmethod\n",
        "    def add_num(cls,course):\n",
        "        cls.course = course # wahi hoga\n",
        "\n",
        "        return course # = return cls.curse same\n",
        "\n",
        "\n",
        "    def studrnt_detials(self):\n",
        "            return self.name,self.emil_id,__class__.mobile_no"
      ],
      "metadata": {
        "id": "bwCVYpyUWMBL"
      },
      "execution_count": null,
      "outputs": []
    },
    {
      "cell_type": "code",
      "source": [
        "del pwskills11.change_no"
      ],
      "metadata": {
        "id": "5bGrpdT6Wnv5"
      },
      "execution_count": null,
      "outputs": []
    },
    {
      "cell_type": "code",
      "source": [
        "pwskills11.change_no(34567899)"
      ],
      "metadata": {
        "id": "xVI7nbU7YqvK",
        "colab": {
          "base_uri": "https://localhost:8080/",
          "height": 263
        },
        "outputId": "525504d5-c3e7-430f-e86b-0e05e1259e2e"
      },
      "execution_count": null,
      "outputs": [
        {
          "output_type": "error",
          "ename": "AttributeError",
          "evalue": "type object 'pwskills11' has no attribute 'change_no'",
          "traceback": [
            "\u001b[0;31m---------------------------------------------------------------------------\u001b[0m",
            "\u001b[0;31mAttributeError\u001b[0m                            Traceback (most recent call last)",
            "\u001b[0;32m/tmp/ipython-input-3801362172.py\u001b[0m in \u001b[0;36m<cell line: 0>\u001b[0;34m()\u001b[0m\n\u001b[0;32m----> 1\u001b[0;31m \u001b[0mpwskills11\u001b[0m\u001b[0;34m.\u001b[0m\u001b[0mchange_no\u001b[0m\u001b[0;34m(\u001b[0m\u001b[0;36m34567899\u001b[0m\u001b[0;34m)\u001b[0m\u001b[0;34m\u001b[0m\u001b[0;34m\u001b[0m\u001b[0m\n\u001b[0m",
            "\u001b[0;31mAttributeError\u001b[0m: type object 'pwskills11' has no attribute 'change_no'"
          ]
        }
      ]
    },
    {
      "cell_type": "code",
      "source": [
        "del pwskills11.add_num"
      ],
      "metadata": {
        "id": "1d-tKp1saJbl"
      },
      "execution_count": null,
      "outputs": []
    },
    {
      "cell_type": "code",
      "source": [
        "pwskills11.add_num(\"sajan\",\"sayy@35\",'duuduc')"
      ],
      "metadata": {
        "colab": {
          "base_uri": "https://localhost:8080/",
          "height": 283
        },
        "id": "qmYJS0OdaTbG",
        "outputId": "5b84a1aa-0a94-431c-b863-f704b53097d8"
      },
      "execution_count": null,
      "outputs": [
        {
          "output_type": "error",
          "ename": "AttributeError",
          "evalue": "type object 'pwskills11' has no attribute 'add_num'",
          "traceback": [
            "\u001b[0;31m---------------------------------------------------------------------------\u001b[0m",
            "\u001b[0;31mAttributeError\u001b[0m                            Traceback (most recent call last)",
            "\u001b[0;32m/tmp/ipython-input-3288520230.py\u001b[0m in \u001b[0;36m<cell line: 0>\u001b[0;34m()\u001b[0m\n\u001b[0;32m----> 1\u001b[0;31m \u001b[0mpwskills11\u001b[0m\u001b[0;34m.\u001b[0m\u001b[0madd_num\u001b[0m\u001b[0;34m(\u001b[0m\u001b[0;34m\"sajan\"\u001b[0m\u001b[0;34m,\u001b[0m\u001b[0;34m\"sayy@35\"\u001b[0m\u001b[0;34m,\u001b[0m\u001b[0;34m'duuduc'\u001b[0m\u001b[0;34m)\u001b[0m\u001b[0;34m\u001b[0m\u001b[0;34m\u001b[0m\u001b[0m\n\u001b[0m",
            "\u001b[0;31mAttributeError\u001b[0m: type object 'pwskills11' has no attribute 'add_num'"
          ]
        }
      ]
    },
    {
      "cell_type": "code",
      "source": [
        "pw = pwskills11.details(\"sajan\",\"sgsggg\")"
      ],
      "metadata": {
        "id": "FYePmvU8ap1i"
      },
      "execution_count": null,
      "outputs": []
    },
    {
      "cell_type": "code",
      "source": [
        "pw.name"
      ],
      "metadata": {
        "colab": {
          "base_uri": "https://localhost:8080/",
          "height": 35
        },
        "id": "TrxxJTxBbRcB",
        "outputId": "8238fb13-96e4-4068-9b23-eec53fe008cb"
      },
      "execution_count": null,
      "outputs": [
        {
          "output_type": "execute_result",
          "data": {
            "text/plain": [
              "'sajan'"
            ],
            "application/vnd.google.colaboratory.intrinsic+json": {
              "type": "string"
            }
          },
          "metadata": {},
          "execution_count": 452
        }
      ]
    },
    {
      "cell_type": "code",
      "source": [
        "del pwskills11.details"
      ],
      "metadata": {
        "id": "hdbLb8thbquP"
      },
      "execution_count": null,
      "outputs": []
    },
    {
      "cell_type": "code",
      "source": [
        "pwskills11.details(\"sajan\",\"sgsggg\")"
      ],
      "metadata": {
        "colab": {
          "base_uri": "https://localhost:8080/",
          "height": 263
        },
        "id": "cMiHN-GHbz66",
        "outputId": "46691920-8ee5-4da7-f94c-186f7ef65465"
      },
      "execution_count": null,
      "outputs": [
        {
          "output_type": "error",
          "ename": "AttributeError",
          "evalue": "type object 'pwskills11' has no attribute 'details'",
          "traceback": [
            "\u001b[0;31m---------------------------------------------------------------------------\u001b[0m",
            "\u001b[0;31mAttributeError\u001b[0m                            Traceback (most recent call last)",
            "\u001b[0;32m/tmp/ipython-input-370760805.py\u001b[0m in \u001b[0;36m<cell line: 0>\u001b[0;34m()\u001b[0m\n\u001b[0;32m----> 1\u001b[0;31m \u001b[0mpwskills11\u001b[0m\u001b[0;34m.\u001b[0m\u001b[0mdetails\u001b[0m\u001b[0;34m(\u001b[0m\u001b[0;34m\"sajan\"\u001b[0m\u001b[0;34m,\u001b[0m\u001b[0;34m\"sgsggg\"\u001b[0m\u001b[0;34m)\u001b[0m\u001b[0;34m\u001b[0m\u001b[0;34m\u001b[0m\u001b[0m\n\u001b[0m",
            "\u001b[0;31mAttributeError\u001b[0m: type object 'pwskills11' has no attribute 'details'"
          ]
        }
      ]
    },
    {
      "cell_type": "code",
      "source": [
        "delattr(pwskills11,\"studrnt_detials\")"
      ],
      "metadata": {
        "id": "Asrkm8epcOXK"
      },
      "execution_count": null,
      "outputs": []
    },
    {
      "cell_type": "code",
      "source": [
        "pw.studrnt_detials()"
      ],
      "metadata": {
        "colab": {
          "base_uri": "https://localhost:8080/",
          "height": 228
        },
        "id": "Fe0WtQAsc19Y",
        "outputId": "31a4aa08-a798-4795-832e-4a3531ff59af"
      },
      "execution_count": null,
      "outputs": [
        {
          "output_type": "error",
          "ename": "AttributeError",
          "evalue": "'pwskills11' object has no attribute 'studrnt_detials'",
          "traceback": [
            "\u001b[0;31m---------------------------------------------------------------------------\u001b[0m",
            "\u001b[0;31mAttributeError\u001b[0m                            Traceback (most recent call last)",
            "\u001b[0;32m/tmp/ipython-input-142982217.py\u001b[0m in \u001b[0;36m<cell line: 0>\u001b[0;34m()\u001b[0m\n\u001b[0;32m----> 1\u001b[0;31m \u001b[0mpw\u001b[0m\u001b[0;34m.\u001b[0m\u001b[0mstudrnt_detials\u001b[0m\u001b[0;34m(\u001b[0m\u001b[0;34m)\u001b[0m\u001b[0;34m\u001b[0m\u001b[0;34m\u001b[0m\u001b[0m\n\u001b[0m",
            "\u001b[0;31mAttributeError\u001b[0m: 'pwskills11' object has no attribute 'studrnt_detials'"
          ]
        }
      ]
    },
    {
      "cell_type": "markdown",
      "source": [
        "tum dono me se ak (del,delattr use kar lo)"
      ],
      "metadata": {
        "id": "3V4-WEesdJVi"
      }
    }
  ]
}