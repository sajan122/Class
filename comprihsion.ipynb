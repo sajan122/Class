{
  "nbformat": 4,
  "nbformat_minor": 0,
  "metadata": {
    "colab": {
      "provenance": [],
      "authorship_tag": "ABX9TyOHJG0bqIVxhuA3I58TCs7y",
      "include_colab_link": true
    },
    "kernelspec": {
      "name": "python3",
      "display_name": "Python 3"
    },
    "language_info": {
      "name": "python"
    }
  },
  "cells": [
    {
      "cell_type": "markdown",
      "metadata": {
        "id": "view-in-github",
        "colab_type": "text"
      },
      "source": [
        "<a href=\"https://colab.research.google.com/github/sajan122/Class/blob/main/comprihsion.ipynb\" target=\"_parent\"><img src=\"https://colab.research.google.com/assets/colab-badge.svg\" alt=\"Open In Colab\"/></a>"
      ]
    },
    {
      "cell_type": "code",
      "execution_count": null,
      "metadata": {
        "id": "6Gy1YlF3bqZr"
      },
      "outputs": [],
      "source": [
        "l = [1,3,6,8,77,9,19]"
      ]
    },
    {
      "cell_type": "code",
      "source": [
        "l1 = []\n",
        "for i in l: # i not fixed you can anything you write\n",
        "    l1.append(i**2)"
      ],
      "metadata": {
        "id": "Np5D7zf5b3QL"
      },
      "execution_count": null,
      "outputs": []
    },
    {
      "cell_type": "code",
      "source": [
        "l1"
      ],
      "metadata": {
        "colab": {
          "base_uri": "https://localhost:8080/"
        },
        "id": "ae9sqpwicmeU",
        "outputId": "312fa635-1575-42d6-ca44-ed270adcd25e"
      },
      "execution_count": null,
      "outputs": [
        {
          "output_type": "execute_result",
          "data": {
            "text/plain": [
              "[1, 9, 36, 64, 5929, 81, 361]"
            ]
          },
          "metadata": {},
          "execution_count": 21
        }
      ]
    },
    {
      "cell_type": "code",
      "source": [
        "list(i**2 for i in l)"
      ],
      "metadata": {
        "id": "p_rC9bUQdLRQ",
        "colab": {
          "base_uri": "https://localhost:8080/"
        },
        "outputId": "cc2613a2-db71-4dc5-ab87-fc874f92a8af"
      },
      "execution_count": null,
      "outputs": [
        {
          "output_type": "execute_result",
          "data": {
            "text/plain": [
              "[1, 9, 36, 64, 5929, 81, 361]"
            ]
          },
          "metadata": {},
          "execution_count": 29
        }
      ]
    },
    {
      "cell_type": "code",
      "source": [],
      "metadata": {
        "id": "RcE8jBCMd51D"
      },
      "execution_count": null,
      "outputs": []
    },
    {
      "cell_type": "code",
      "source": [
        "[i**2 for i in l]"
      ],
      "metadata": {
        "id": "5vK7Z1mdcpM_",
        "colab": {
          "base_uri": "https://localhost:8080/"
        },
        "outputId": "3c418881-f03e-4ef5-ccfd-08f6098b508d"
      },
      "execution_count": null,
      "outputs": [
        {
          "output_type": "execute_result",
          "data": {
            "text/plain": [
              "[1, 9, 36, 64, 5929, 81, 361]"
            ]
          },
          "metadata": {},
          "execution_count": 28
        }
      ]
    },
    {
      "cell_type": "code",
      "source": [
        "l1= [\"sajan\",'kumar',\"verma\",'parsad']"
      ],
      "metadata": {
        "id": "RLR1L1pgd7Gh"
      },
      "execution_count": null,
      "outputs": []
    },
    {
      "cell_type": "code",
      "source": [
        "[ i.upper() for i in l1]"
      ],
      "metadata": {
        "colab": {
          "base_uri": "https://localhost:8080/"
        },
        "id": "9XnKEhAHeXi3",
        "outputId": "f7fff61c-09e1-4669-fbca-0bd39138b369"
      },
      "execution_count": null,
      "outputs": [
        {
          "output_type": "execute_result",
          "data": {
            "text/plain": [
              "['SAJAN', 'KUMAR', 'VERMA', 'PARSAD']"
            ]
          },
          "metadata": {},
          "execution_count": 36
        }
      ]
    },
    {
      "cell_type": "code",
      "source": [
        "l1"
      ],
      "metadata": {
        "colab": {
          "base_uri": "https://localhost:8080/"
        },
        "id": "2jQhrR2deiEh",
        "outputId": "d60a5c78-825e-48d6-c8ec-2e0422866223"
      },
      "execution_count": null,
      "outputs": [
        {
          "output_type": "execute_result",
          "data": {
            "text/plain": [
              "['sajan', 'kumar', 'verma', 'parsad']"
            ]
          },
          "metadata": {},
          "execution_count": 31
        }
      ]
    },
    {
      "cell_type": "code",
      "source": [],
      "metadata": {
        "id": "V9yvGHQTgKCv"
      },
      "execution_count": null,
      "outputs": []
    },
    {
      "cell_type": "code",
      "source": [
        "\n",
        "d = {'key1':1,'key2':2,'key3':3 ,'key4':4}\n",
        "{ k:v**2 for k ,v in d.items()}"
      ],
      "metadata": {
        "id": "BGpbpuO7gegy",
        "colab": {
          "base_uri": "https://localhost:8080/"
        },
        "outputId": "6640687d-304f-4901-aebd-c6cc6bf1a990"
      },
      "execution_count": null,
      "outputs": [
        {
          "output_type": "execute_result",
          "data": {
            "text/plain": [
              "{'key1': 1, 'key2': 4, 'key3': 9, 'key4': 16}"
            ]
          },
          "metadata": {},
          "execution_count": 53
        }
      ]
    },
    {
      "cell_type": "code",
      "source": [
        "{ k:v**2 for k ,v in d.items() if v>1}"
      ],
      "metadata": {
        "id": "Sm0LmGqnjK4R",
        "colab": {
          "base_uri": "https://localhost:8080/"
        },
        "outputId": "cec93be3-e0f8-4aa5-9e13-0ce243641861"
      },
      "execution_count": null,
      "outputs": [
        {
          "output_type": "execute_result",
          "data": {
            "text/plain": [
              "{'key2': 4, 'key3': 9, 'key4': 16}"
            ]
          },
          "metadata": {},
          "execution_count": 56
        }
      ]
    },
    {
      "cell_type": "code",
      "source": [
        "d = {'key1':1,'key2':2,'key3':3 ,'key4':4}\n",
        "{ k:v**2 for k ,v in d.items() if v>1}"
      ],
      "metadata": {
        "colab": {
          "base_uri": "https://localhost:8080/"
        },
        "id": "EghiDnMWlGHJ",
        "outputId": "6c044630-7aa9-4c3f-ef22-97f7884e6683"
      },
      "execution_count": null,
      "outputs": [
        {
          "output_type": "execute_result",
          "data": {
            "text/plain": [
              "{'key2': 4, 'key3': 9, 'key4': 16}"
            ]
          },
          "metadata": {},
          "execution_count": 59
        }
      ]
    },
    {
      "cell_type": "code",
      "source": [
        "\n",
        "d = {'key1':1,'key2':2,'key3':3 ,'key4':4}\n",
        "sequres = {}\n",
        "\n",
        "for k, v in d.items():\n",
        "    if v > 1:\n",
        "        sequres[k] = v**2\n",
        "print(sequres)"
      ],
      "metadata": {
        "colab": {
          "base_uri": "https://localhost:8080/"
        },
        "id": "CXLs4fb9lsMw",
        "outputId": "c9522186-06ef-492b-c024-77537b31c883"
      },
      "execution_count": null,
      "outputs": [
        {
          "output_type": "stream",
          "name": "stdout",
          "text": [
            "{'key2': 4, 'key3': 9, 'key4': 16}\n"
          ]
        }
      ]
    },
    {
      "cell_type": "code",
      "source": [
        "type(d)"
      ],
      "metadata": {
        "colab": {
          "base_uri": "https://localhost:8080/"
        },
        "id": "NxlP1dB9hN6Q",
        "outputId": "922d0f3a-1182-4874-80ce-7cf6e110a5e5"
      },
      "execution_count": null,
      "outputs": [
        {
          "output_type": "execute_result",
          "data": {
            "text/plain": [
              "dict"
            ]
          },
          "metadata": {},
          "execution_count": 38
        }
      ]
    },
    {
      "cell_type": "code",
      "metadata": {
        "colab": {
          "base_uri": "https://localhost:8080/",
          "height": 52
        },
        "id": "43ff8459",
        "outputId": "4dfa31be-72f9-44f7-a7b0-9b3a9cb078a8"
      },
      "source": [],
      "execution_count": null,
      "outputs": [
        {
          "output_type": "display_data",
          "data": {
            "text/plain": [
              "{'key1': 1, 'key2': 4, 'key3': 9, 'key4': 16}"
            ]
          },
          "metadata": {}
        }
      ]
    }
  ]
}