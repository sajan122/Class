{
  "nbformat": 4,
  "nbformat_minor": 0,
  "metadata": {
    "colab": {
      "provenance": [],
      "authorship_tag": "ABX9TyOQSAnYTKT5KVhaqkcEgsFD",
      "include_colab_link": true
    },
    "kernelspec": {
      "name": "python3",
      "display_name": "Python 3"
    },
    "language_info": {
      "name": "python"
    }
  },
  "cells": [
    {
      "cell_type": "markdown",
      "metadata": {
        "id": "view-in-github",
        "colab_type": "text"
      },
      "source": [
        "<a href=\"https://colab.research.google.com/github/sajan122/Class/blob/main/Practices.ipynb\" target=\"_parent\"><img src=\"https://colab.research.google.com/assets/colab-badge.svg\" alt=\"Open In Colab\"/></a>"
      ]
    },
    {
      "cell_type": "code",
      "execution_count": null,
      "metadata": {
        "colab": {
          "base_uri": "https://localhost:8080/",
          "height": 263
        },
        "id": "67OJGWB9fNBz",
        "outputId": "0eeebbe5-f08a-4fba-ac09-a01f63ac6f7f"
      },
      "outputs": [
        {
          "output_type": "error",
          "ename": "SyntaxError",
          "evalue": "Missing parentheses in call to 'print'. Did you mean print(...)? (ipython-input-3028314846.py, line 1)",
          "traceback": [
            "\u001b[0;36m  File \u001b[0;32m\"/tmp/ipython-input-3028314846.py\"\u001b[0;36m, line \u001b[0;32m1\u001b[0m\n\u001b[0;31m    Write a Python program to print all the numbers from 1 to 15, but for multiples of 3, print \"Fizz\" instead of the number, and for multiples of 5, print \"Buzz\". For numbers which are multiples of both 3 and 5, print \"FizzBuzz\".\u001b[0m\n\u001b[0m                              ^\u001b[0m\n\u001b[0;31mSyntaxError\u001b[0m\u001b[0;31m:\u001b[0m Missing parentheses in call to 'print'. Did you mean print(...)?\n"
          ]
        }
      ],
      "source": [
        "\n",
        "Write a Python program to print all the numbers from 1 to 15, but for multiples of 3, print \"Fizz\" instead of the number, and for multiples of 5, print \"Buzz\". For numbers which are multiples of both 3 and 5, print \"FizzBuzz\"."
      ]
    },
    {
      "cell_type": "code",
      "source": [],
      "metadata": {
        "id": "tcLUHS_uFNz2"
      },
      "execution_count": null,
      "outputs": []
    },
    {
      "cell_type": "code",
      "source": [
        "list(range(1,16))"
      ],
      "metadata": {
        "colab": {
          "base_uri": "https://localhost:8080/"
        },
        "id": "MHmHaeQngcN6",
        "outputId": "d74ee4be-4021-4ff7-b98f-c282a7b175fc"
      },
      "execution_count": null,
      "outputs": [
        {
          "output_type": "execute_result",
          "data": {
            "text/plain": [
              "[1, 2, 3, 4, 5, 6, 7, 8, 9, 10, 11, 12, 13, 14, 15]"
            ]
          },
          "metadata": {},
          "execution_count": 13
        }
      ]
    },
    {
      "cell_type": "code",
      "source": [
        "Fizz = []\n",
        "for i in range(1,16):\n",
        "    print(i*3)"
      ],
      "metadata": {
        "colab": {
          "base_uri": "https://localhost:8080/"
        },
        "id": "F7-_-phti3dA",
        "outputId": "3b6bb023-ddfb-4e66-83dd-80f316d5eb99"
      },
      "execution_count": null,
      "outputs": [
        {
          "output_type": "stream",
          "name": "stdout",
          "text": [
            "3\n",
            "6\n",
            "9\n",
            "12\n",
            "15\n",
            "18\n",
            "21\n",
            "24\n",
            "27\n",
            "30\n",
            "33\n",
            "36\n",
            "39\n",
            "42\n",
            "45\n"
          ]
        }
      ]
    },
    {
      "cell_type": "code",
      "source": [],
      "metadata": {
        "id": "-PDwHL1CFSuT"
      },
      "execution_count": null,
      "outputs": []
    },
    {
      "cell_type": "code",
      "source": [],
      "metadata": {
        "id": "0o_oIOKBFT9O"
      },
      "execution_count": null,
      "outputs": []
    },
    {
      "cell_type": "code",
      "source": [
        "Write a program to check whether a person is eligible for voting or not. (accept age from user)\n",
        "\n",
        "Show Answer\n",
        "\n",
        "Q5. Write a program to check whether a number entered by user is even or odd.\n",
        "\n",
        "Show Answer\n",
        "\n",
        "Q6. Write a program to check whether a number is divisible by 7 or not.\n",
        "\n",
        "Show Answer"
      ],
      "metadata": {
        "id": "jRvE02UlFPEw"
      },
      "execution_count": null,
      "outputs": []
    },
    {
      "cell_type": "code",
      "source": [
        "age = int(input(\"enter age\"))\n",
        "if age >=18:\n",
        "    print(\"the parson is eligible for voting\")\n",
        "else:\n",
        "    print(\"the parson con't be eligible voting\")"
      ],
      "metadata": {
        "colab": {
          "base_uri": "https://localhost:8080/"
        },
        "id": "HAskjcpCFU6G",
        "outputId": "8422bb42-121f-48d1-9359-fb481d2a34a0"
      },
      "execution_count": null,
      "outputs": [
        {
          "output_type": "stream",
          "name": "stdout",
          "text": [
            "enter age12\n",
            "the parson con't be eligible voting\n"
          ]
        }
      ]
    },
    {
      "cell_type": "code",
      "source": [
        "number = int(input(\"enter number\"))\n",
        "if number % 2 == 0:\n",
        "    print(\"this is even number\")\n",
        "else:\n",
        "    print(\"this is odd number\")"
      ],
      "metadata": {
        "id": "lCzIaNpQGxJs",
        "colab": {
          "base_uri": "https://localhost:8080/"
        },
        "outputId": "d2bff368-93cb-4975-f7a4-bd181356e682"
      },
      "execution_count": null,
      "outputs": [
        {
          "output_type": "stream",
          "name": "stdout",
          "text": [
            "enter number3\n",
            "this is odd number\n"
          ]
        }
      ]
    },
    {
      "cell_type": "code",
      "source": [
        "number = int(input(\"enter number\"))\n",
        "if number % 7 == 0:\n",
        "    print(\" divisible by 7\")\n",
        "else:\n",
        "    print(\"not divisible by 7\")"
      ],
      "metadata": {
        "id": "v-GwZ_DnI-lq",
        "colab": {
          "base_uri": "https://localhost:8080/"
        },
        "outputId": "dfa26673-a04e-4b3b-feb4-84dce18b346a"
      },
      "execution_count": null,
      "outputs": [
        {
          "output_type": "stream",
          "name": "stdout",
          "text": [
            "enter number12\n",
            "not divisible by 7\n"
          ]
        }
      ]
    },
    {
      "cell_type": "code",
      "source": [
        "\n",
        "Write a program to display \"Hello\" if a number entered by user is a multiple of five, otherwise print \"Bye\".\n",
        "\n",
        "Show Answer\n",
        "\n",
        "Q8. Write a program to calculate the electricity bill (accept number of unit from user) according to the following criteria:\n",
        "\n",
        "Unit\n",
        "\n",
        "Price\n",
        "\n",
        "First 100 units\n",
        "\n",
        "no charge\n",
        "\n",
        "Next 100 units\n",
        "\n",
        "Rs 5 per unit\n",
        "\n",
        "After 200 units\n",
        "\n",
        "Rs 10 per unit\n",
        "\n",
        "(For example if input unit is 35 total bill amount is Rs2000)\n",
        "\n",
        "Show Answer\n",
        "\n",
        "PW Date Science\n",
        "\n",
        "X\n",
        "\n",
        "Python Certification\n",
        "\n",
        "Watie"
      ],
      "metadata": {
        "id": "68_AgOXLPADV"
      },
      "execution_count": null,
      "outputs": []
    },
    {
      "cell_type": "code",
      "source": [
        "user = int(input(\"enter number\"))\n",
        "if user %5 == 0:\n",
        "    print(\"hello\")\n",
        "else:\n",
        "     print(\"BYE\")"
      ],
      "metadata": {
        "colab": {
          "base_uri": "https://localhost:8080/"
        },
        "id": "c7kbGQdTPTx2",
        "outputId": "38fc4b3e-5e02-420b-e6b8-d430e929d99b"
      },
      "execution_count": null,
      "outputs": [
        {
          "output_type": "stream",
          "name": "stdout",
          "text": [
            "enter number7\n",
            "BYE\n"
          ]
        }
      ]
    },
    {
      "cell_type": "code",
      "source": [
        "\n",
        "#amount = 0\n",
        "unit = int(input(\"enter units\"))\n",
        "\n",
        "if unit <= 100:\n",
        "    amount = 0\n",
        "    #print(\"amount to pay =\", amount)\n",
        "elif unit > 100 and unit <= 200:\n",
        "    amount = (unit - 100) * 5\n",
        "   # print(\"amount to pay =\", amount)\n",
        "else:\n",
        "    amount = ((unit - 100) * 10) - 500\n",
        "\n",
        "print(\"amount to pay =\", amount) #this is print to start equal to else than print if,elif condition"
      ],
      "metadata": {
        "colab": {
          "base_uri": "https://localhost:8080/"
        },
        "id": "uQhcbKG8u6J_",
        "outputId": "83e7a28e-c07e-48fd-d1de-1b8878fd05d7"
      },
      "execution_count": null,
      "outputs": [
        {
          "output_type": "stream",
          "name": "stdout",
          "text": [
            "enter units130\n",
            "amount to pay = 150\n"
          ]
        }
      ]
    }
  ]
}